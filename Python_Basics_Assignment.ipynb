{
  "nbformat": 4,
  "nbformat_minor": 0,
  "metadata": {
    "colab": {
      "provenance": []
    },
    "kernelspec": {
      "name": "python3",
      "display_name": "Python 3"
    },
    "language_info": {
      "name": "python"
    }
  },
  "cells": [
    {
      "cell_type": "markdown",
      "source": [
        "**1.What is Python, and why is it popular**\n",
        "  - Python is popular programming language.\n",
        "  - It is highlevel and interpreted language which read code line by line with simple syntax.\n",
        "  -Easy to learn and use also.\n",
        "  - It have large community support.\n",
        "  - Wide range of libraries.\n",
        "  - It is very versetile, we can use in data analytics, data science, web developmentt, test automation.\n"
      ],
      "metadata": {
        "id": "WQn6Uh0zL9TX"
      }
    },
    {
      "cell_type": "markdown",
      "source": [
        "**2. What is an interpreter in Python**\n",
        "  - An interpreter reads and executes Python code line by line. It translates high-level Python code into machine code at runtime, making it easier to debug."
      ],
      "metadata": {
        "id": "t-Yhhnt1PpPL"
      }
    },
    {
      "cell_type": "markdown",
      "source": [],
      "metadata": {
        "id": "I4jiz_9gQE1o"
      }
    },
    {
      "cell_type": "markdown",
      "source": [
        "**3. What are pre-defined keywords in Python**\n",
        "  - Pre-defined keywords are reserved words that have special meaning in Python which are case sensetive.\n",
        "  - For example - if, else, elif, True, False, ...etc.\n"
      ],
      "metadata": {
        "id": "vlPSxItCQLtE"
      }
    },
    {
      "cell_type": "markdown",
      "source": [],
      "metadata": {
        "id": "KsLvvB6SRRkm"
      }
    },
    {
      "cell_type": "markdown",
      "source": [
        "**4. Can keywords be used as variable names**\n",
        "  - No, we cannot use keywords to be used as variable names in python."
      ],
      "metadata": {
        "id": "SboSt_IvRUrL"
      }
    },
    {
      "cell_type": "markdown",
      "source": [
        "**5. What is mutability in Python**\n",
        "  - Mutability means, when we assign the value can change after it is created."
      ],
      "metadata": {
        "id": "XYLBu0EZRyIT"
      }
    },
    {
      "cell_type": "markdown",
      "source": [
        "**6. Why are lists mutable, but tuples are immutable**\n",
        "  - Lists are designed to be modified (e.g., adding/removing elements), so they are mutable.\n",
        "  -Tuples are meant to be fixed collections, often used for read-only data, so they are immutable for safety and performance.\n"
      ],
      "metadata": {
        "id": "PsleZnGQSrmm"
      }
    },
    {
      "cell_type": "markdown",
      "source": [
        "**7. What is the difference between “==” and “is” operators in Python**\n",
        "  - **==:** Compares values                                              \n",
        "   (e.g., a == b checks if values are equal)\n",
        "\n",
        "  -**is:** Compares identities in memory              \n",
        "   (e.g., a is b checks if both refer to the same object in memory)"
      ],
      "metadata": {
        "id": "HTciWLjITno_"
      }
    },
    {
      "cell_type": "markdown",
      "source": [
        "**8. What are logical operators in Python**\n",
        "  - Logical operators are used to combine conditional statements.\n",
        "  - **and:** True if both conditions are true\n",
        "  - **or:** True if at least one condition is true\n",
        "  - **not:** Inverts the condition (True becomes False, and vice versa)"
      ],
      "metadata": {
        "id": "jHk_jx1YVwa8"
      }
    },
    {
      "cell_type": "markdown",
      "source": [
        "**9. What is type casting in Python**\n",
        "  - In Python, converting one data type into another type is called as Type casting.\n",
        "  - There are 2 types:\n",
        "  - **Implicit casting**\n",
        "  - **Explicit casting**  "
      ],
      "metadata": {
        "id": "OKV8rgkfWSiN"
      }
    },
    {
      "cell_type": "markdown",
      "source": [
        "**10. What is the difference between implicit and explicit type casting**\n",
        "  - **Implicit casting**: Python automatically convert types                                                                       (e.g., int to float)\n",
        "  - **Explicit casting:** The programmer manually converts types using functions like int(), float(), str()"
      ],
      "metadata": {
        "id": "0fFlA95JXUdk"
      }
    },
    {
      "cell_type": "markdown",
      "source": [
        "**11. What is the purpose of conditional statements in Python**\n",
        "  - Conditional statements control the flow of the program based on conditions, allowing different code to run based on whether a condition is True or False.\n",
        "  eg.: if, elif, else"
      ],
      "metadata": {
        "id": "j0uC61UvRhMq"
      }
    },
    {
      "cell_type": "markdown",
      "source": [
        "**12. How does the elif statement work**\n",
        "  - **elif** condition is used to check multiple conditions after an initial if.\n",
        "Python checks conditions top-down and stops at the first True condition."
      ],
      "metadata": {
        "id": "DIeFrpv1R8_k"
      }
    },
    {
      "cell_type": "markdown",
      "source": [
        "**13. What is the difference between for and while loops**\n",
        "  - **for loop:** Used when you know how many times to iterate.\n",
        "  - **while loop:** Used when you want to loop until a condition is no longer true"
      ],
      "metadata": {
        "id": "rifi4TVRS47Y"
      }
    },
    {
      "cell_type": "markdown",
      "source": [
        "**14. Describe a scenario where a while loop is more suitable than a for loop.**\n",
        "  - When we dont known how many times to iterate the same condition, until the condition gets true. At that time we use while loop.\n",
        "  -Example : In following example, we don't know how many attempts the user will need, so we used while loop.\n",
        "\n",
        "  password = \"\"\n",
        "\n",
        "  while password != \"admin\":\n",
        "\n",
        "   password  = input(\"Enter password: \")\n",
        "\n",
        "  print(\"Access granted!\")"
      ],
      "metadata": {
        "id": "Uo5rHna5TRWq"
      }
    },
    {
      "cell_type": "markdown",
      "source": [
        "# **Practical Questions**"
      ],
      "metadata": {
        "id": "aeRYlH7dZIQo"
      }
    },
    {
      "cell_type": "code",
      "source": [
        "# 1. Write a Python program to print \"Hello, World!\n",
        "\n",
        "print(\"Hello\",\"World!\")"
      ],
      "metadata": {
        "colab": {
          "base_uri": "https://localhost:8080/"
        },
        "id": "Q1cFnWBhZcdg",
        "outputId": "1636b68a-4f81-4fff-a23a-fb229fa2c7bc"
      },
      "execution_count": null,
      "outputs": [
        {
          "output_type": "stream",
          "name": "stdout",
          "text": [
            "Hello World!\n"
          ]
        }
      ]
    },
    {
      "cell_type": "code",
      "source": [
        "# 2. Write a Python program that displays your name and age\n",
        "\n",
        "name =\"Sumit\"\n",
        "age = 30\n",
        "print(f\"My name is {name} and I am {age} years old\")"
      ],
      "metadata": {
        "colab": {
          "base_uri": "https://localhost:8080/"
        },
        "id": "uv_Dj_uzaN1m",
        "outputId": "e1e05fa7-475d-4dfa-b95c-157b594124b8"
      },
      "execution_count": null,
      "outputs": [
        {
          "output_type": "stream",
          "name": "stdout",
          "text": [
            "My name is Sumit and I am 30 years old\n"
          ]
        }
      ]
    },
    {
      "cell_type": "code",
      "source": [
        "# 3. Write code to print all the pre-defined keywords in Python using the keyword library\n",
        "\n",
        "import keyword\n",
        "print(keyword.kwlist)\n"
      ],
      "metadata": {
        "id": "BbR89Meka0fR",
        "colab": {
          "base_uri": "https://localhost:8080/"
        },
        "outputId": "fc68087a-b256-4468-eaf6-708932588107"
      },
      "execution_count": 4,
      "outputs": [
        {
          "output_type": "stream",
          "name": "stdout",
          "text": [
            "['False', 'None', 'True', 'and', 'as', 'assert', 'async', 'await', 'break', 'class', 'continue', 'def', 'del', 'elif', 'else', 'except', 'finally', 'for', 'from', 'global', 'if', 'import', 'in', 'is', 'lambda', 'nonlocal', 'not', 'or', 'pass', 'raise', 'return', 'try', 'while', 'with', 'yield']\n"
          ]
        }
      ]
    },
    {
      "cell_type": "code",
      "source": [
        "# 4. Write a program that checks if a given word is a Python keyword.\n",
        "\n",
        "import keyword\n",
        "\n",
        "word = input(\"Enter a word: \")\n",
        "if keyword.iskeyword(word):\n",
        "    print(f\"'{word}' is a Python keyword.\")\n",
        "else:\n",
        "    print(f\"'{word}' is not a Python keyword.\")"
      ],
      "metadata": {
        "colab": {
          "base_uri": "https://localhost:8080/"
        },
        "id": "Z8GAgNjdnzQW",
        "outputId": "1d23461a-a94a-42d7-d415-c70d8603fbd3"
      },
      "execution_count": 5,
      "outputs": [
        {
          "output_type": "stream",
          "name": "stdout",
          "text": [
            "Enter a word: if\n",
            "'if' is a Python keyword.\n"
          ]
        }
      ]
    },
    {
      "cell_type": "code",
      "source": [
        "''' 5. Create a list and tuple in Python, and demonstrate how attempting to change an element works differently\n",
        "for each.\n",
        "'''\n",
        "# For List\n",
        "my_list=[1,2,3,\"Sumit\",100]\n",
        "my_list.append(\"Thar\")\n",
        "print(my_list)\n",
        "\n",
        "# For tuple = Tuples in Python are immutable, which means their elements cannot be directly changed, added, or removed after the tuple has been created.\n",
        "# So we have to convert into List and then we can change the element.\n",
        "\n",
        "my_tuple=(11,22,33,\"Amit\")\n",
        "new_list= list(my_tuple)\n",
        "new_list.append(\"Nexon\")\n",
        "new_tuple=tuple(new_list)\n",
        "print(new_tuple)"
      ],
      "metadata": {
        "colab": {
          "base_uri": "https://localhost:8080/"
        },
        "id": "sygqD7avoIVG",
        "outputId": "64834ff0-3efe-4868-eb16-fc40ab88172b"
      },
      "execution_count": 6,
      "outputs": [
        {
          "output_type": "stream",
          "name": "stdout",
          "text": [
            "[1, 2, 3, 'Sumit', 100, 'Thar']\n",
            "(11, 22, 33, 'Amit', 'Nexon')\n"
          ]
        }
      ]
    },
    {
      "cell_type": "code",
      "source": [
        "# 6.Write a function to demonstrate the behavior of mutable and immutable arguments.\n",
        "\n"
      ],
      "metadata": {
        "id": "9jbtC4dSwEfQ"
      },
      "execution_count": null,
      "outputs": []
    },
    {
      "cell_type": "code",
      "source": [
        "# 7. Write a program that performs basic arithmetic operations on two user-input numbers.\n",
        "\n",
        "num1 = int(input(\"enter num 1 \"))\n",
        "num2 = int(input(\"enter num 2 \"))\n",
        "addition = num1 +num2\n",
        "print(f\"The addition of {num1} and {num2} is {addition}\")\n",
        "subtraction = num1 - num2\n",
        "print(f\"The subtraction of {num1} and {num2} is {subtraction}\")\n",
        "multiplication = num1 * num2\n",
        "print(f\"The multiplication of {num1} and {num2} is {multiplication}\")\n",
        "division = num1 / num2\n",
        "print(f\"The division of {num1} and {num2} is {division}\")"
      ],
      "metadata": {
        "colab": {
          "base_uri": "https://localhost:8080/"
        },
        "id": "2aM65x-rZxEM",
        "outputId": "c6d174c0-6511-45b8-eafc-edab8767606d"
      },
      "execution_count": 2,
      "outputs": [
        {
          "output_type": "stream",
          "name": "stdout",
          "text": [
            "enter num 1 20\n",
            "enter num 2 10\n",
            "The addition of 20 and 10 is 30\n",
            "The subtraction of 20 and 10 is 10\n",
            "The multiplication of 20 and 10 is 200\n",
            "The division of 20 and 10 is 2.0\n"
          ]
        }
      ]
    },
    {
      "cell_type": "code",
      "source": [
        "#8. Write a program to demonstrate the use of logical operators.\n",
        "\n",
        "is_sunny = True\n",
        "is_warm = True\n",
        "has_umbrella = False\n",
        "is_raining = False\n",
        "\n",
        "\n",
        "if is_sunny and is_warm:\n",
        "    print(\"It's a perfect day for outdoor activities!\")\n",
        "else:\n",
        "    print(\"Conditions are not ideal for outdoor activities.\")\n",
        "\n",
        "\n",
        "if is_sunny or has_umbrella:\n",
        "    print(\"We can go for a walk.\")\n",
        "else:\n",
        "    print(\"It might be better to stay indoors.\")\n",
        "\n",
        "\n",
        "if not is_raining:\n",
        "    print(\"No need for a raincoat.\")\n",
        "else:\n",
        "    print(\"Grab your raincoat!\")\n"
      ],
      "metadata": {
        "colab": {
          "base_uri": "https://localhost:8080/"
        },
        "id": "GG7xFOcmah9m",
        "outputId": "5849094c-5a84-4e4b-bafe-d0d3af650a06"
      },
      "execution_count": 3,
      "outputs": [
        {
          "output_type": "stream",
          "name": "stdout",
          "text": [
            "It's a perfect day for outdoor activities!\n",
            "We can go for a walk.\n",
            "No need for a raincoat.\n"
          ]
        }
      ]
    },
    {
      "cell_type": "code",
      "source": [
        "# 9. Write a Python program to convert user input from string to integer, float, and boolean types.\n",
        "\n",
        "user_input = input(\"Enter a value: \")\n",
        "\n",
        "int_value = int(user_input)\n",
        "float_value = float(user_input)\n",
        "bool_value = bool(user_input)\n",
        "\n",
        "print(\"Integer:\", int_value)\n",
        "print(\"Float:\", float_value)\n",
        "print(\"Boolean:\", bool_value)"
      ],
      "metadata": {
        "colab": {
          "base_uri": "https://localhost:8080/"
        },
        "id": "_amT8igwdxRM",
        "outputId": "36f85c62-2e2d-46f9-f39e-7c68707bae97"
      },
      "execution_count": 4,
      "outputs": [
        {
          "output_type": "stream",
          "name": "stdout",
          "text": [
            "Enter a value: 10\n",
            "Integer: 10\n",
            "Float: 10.0\n",
            "Boolean: True\n"
          ]
        }
      ]
    },
    {
      "cell_type": "code",
      "source": [
        "# 10. Write code to demonstrate type casting with list elements.\n",
        "\n",
        "str_list = ['1', '2', '3']\n",
        "int_list = [int(x) for x in str_list]\n",
        "print(\"String List:\", str_list)\n",
        "print(\"Integer List:\", int_list)"
      ],
      "metadata": {
        "colab": {
          "base_uri": "https://localhost:8080/"
        },
        "id": "EOLSsws9esDp",
        "outputId": "f4d4caaa-fc3e-4ed5-a1ae-7a64bc5867bd"
      },
      "execution_count": 5,
      "outputs": [
        {
          "output_type": "stream",
          "name": "stdout",
          "text": [
            "String List: ['1', '2', '3']\n",
            "Integer List: [1, 2, 3]\n"
          ]
        }
      ]
    },
    {
      "cell_type": "code",
      "source": [
        "# 11. Write a program that checks if a number is positive, negative, or zero.\n",
        "\n",
        "num = int(input(\"Enter a number: \"))\n",
        "\n",
        "if num > 0:\n",
        "    print(\"Positive\")\n",
        "elif num < 0:\n",
        "    print(\"Negative\")\n",
        "else:\n",
        "    print(\"Zero\")"
      ],
      "metadata": {
        "id": "YV8MQ_L9fkZs"
      },
      "execution_count": null,
      "outputs": []
    },
    {
      "cell_type": "code",
      "source": [
        "# 12. Write a for loop to print numbers from 1 to 10.\n",
        "\n",
        "for i in range(1, 11):\n",
        "    print(i)\n",
        ""
      ],
      "metadata": {
        "id": "90IAqOn4f1mM"
      },
      "execution_count": null,
      "outputs": []
    },
    {
      "cell_type": "code",
      "source": [
        "# 13. Write a Python program to find the sum of all even numbers between 1 and 50\n",
        "\n",
        "total = 0\n",
        "for i in range(2, 51, 2):\n",
        "    total += i\n",
        "    print(\"Sum of even numbers from 1 to 50 is:\", total)"
      ],
      "metadata": {
        "id": "Go9yMMorgDmW"
      },
      "execution_count": null,
      "outputs": []
    },
    {
      "cell_type": "code",
      "source": [
        "# 14. Write a program to reverse a string using a while loop.\n",
        "\n",
        "string = \"Sumit\"\n",
        "reversed_str = \"\"\n",
        "i = len(string) - 1\n",
        "\n",
        "while i >= 0:\n",
        "    reversed_str += string[i]\n",
        "    i -= 1\n",
        "\n",
        "print(\"Reversed string:\", reversed_str)\n"
      ],
      "metadata": {
        "colab": {
          "base_uri": "https://localhost:8080/"
        },
        "id": "JaIFV6ykgQ0p",
        "outputId": "c9a51a20-a382-47db-86b4-ca48d5cfffe9"
      },
      "execution_count": 6,
      "outputs": [
        {
          "output_type": "stream",
          "name": "stdout",
          "text": [
            "Reversed string: timuS\n"
          ]
        }
      ]
    },
    {
      "cell_type": "code",
      "source": [
        "# 15. Write a Python program to calculate the factorial of a number provided by the user using a while loop\n",
        "\n",
        "n = int(input(\"Enter a number: \"))\n",
        "factorial = 1\n",
        "i = 1\n",
        "\n",
        "while i <= n:\n",
        "    factorial *= i\n",
        "    i += 1\n",
        "\n",
        "print(\"Factorial of\", n, \"is\", factorial)"
      ],
      "metadata": {
        "id": "QmXnP_Fog24A"
      },
      "execution_count": null,
      "outputs": []
    }
  ]
}
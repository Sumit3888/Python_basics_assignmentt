{
  "nbformat": 4,
  "nbformat_minor": 0,
  "metadata": {
    "colab": {
      "provenance": []
    },
    "kernelspec": {
      "name": "python3",
      "display_name": "Python 3"
    },
    "language_info": {
      "name": "python"
    }
  },
  "cells": [
    {
      "cell_type": "markdown",
      "source": [
        "**1. What are data structures, and why are they important?**\n",
        "  - Data structures are a way of organizing, storing, and managing data in a computer so that it can be accessed and used efficiently. They are crucial because they help:\n",
        "\n",
        "  -Optimize performance (speed and memory usage)\n",
        "\n",
        "  -Simplify code logic\n",
        "\n",
        "  -Enable efficient data manipulation (searching, sorting, indexing)"
      ],
      "metadata": {
        "id": "_QsHuNYoPU4T"
      }
    },
    {
      "cell_type": "markdown",
      "source": [
        "**2.Explain the difference between mutable and immutable data types with examples.**\n",
        "  - Mutable: Can be changed after creation.\n",
        "  - Example: list, dict, set\n",
        "  - my_list = [1, 2]\n",
        "  - my_list[0] = 3  \n",
        "\n",
        "  -Immutable: Cannot be changed after creation.It will throw an error.\n",
        "  - Example: int, float, tuple, str\n",
        "  -my_string = \"hello\";\n",
        "  -my_string[0] = \"H\"  "
      ],
      "metadata": {
        "id": "4O_kFzptQDuW"
      }
    },
    {
      "cell_type": "markdown",
      "source": [],
      "metadata": {
        "id": "8Rx28_1FSs6-"
      }
    },
    {
      "cell_type": "markdown",
      "source": [
        "3. **What are the main differences between lists and tuples in Python?**\n",
        "  - **List:**\n",
        "    - They are mutable.\n",
        "    - They are dynamic in nature.\n",
        "    - Syntax : my_list=[1,2,3]\n",
        "  - **Tuple:**\n",
        "    - They are immutable.\n",
        "    - They are fixed in nature.\n",
        "    - Syntax : my_tuple=(1,2,3)"
      ],
      "metadata": {
        "id": "YsdFHVq0S2v1"
      }
    },
    {
      "cell_type": "markdown",
      "source": [
        "**4. Describe how dictionaries store data**\n",
        "  - Dictionaries store data as key-value pairs. Keys must be immutable and unique, and values can be any type.\n",
        "- Example:\n",
        "  - my_details = {\"name\": \"Sumit\", \"age\": 30}"
      ],
      "metadata": {
        "id": "wTXX9NZGV-b-"
      }
    },
    {
      "cell_type": "markdown",
      "source": [
        "**5. Why might you use a set instead of a list in Python?**\n",
        "  - You need unique elements and remove duplicates automatically."
      ],
      "metadata": {
        "id": "ZbRytX-OWviy"
      }
    },
    {
      "cell_type": "markdown",
      "source": [
        "**6. What is a string in Python, and how is it different from a list?**\n",
        "  - A string is an immutable sequence of characters.\n",
        "   - Strings: 'hello'\n",
        "\n",
        "  - A list is a mutable sequence of elements (can be any data type).\n",
        "\n",
        "   - Lists: ['h', 'e', 'l', 'l', 'o']\n",
        "\n"
      ],
      "metadata": {
        "id": "4YKPWJ90Vpl7"
      }
    },
    {
      "cell_type": "markdown",
      "source": [
        "**7.  How do tuples ensure data integrity in Python?**\n",
        "  - Tuples are immutable, meaning once created, their content cannot be changed. This makes them ideal for:\n",
        "\n",
        "  - Read-only data\n",
        "\n",
        "\n",
        "  - Preventing accidental modifications"
      ],
      "metadata": {
        "id": "eJRyRrBwXEoj"
      }
    },
    {
      "cell_type": "markdown",
      "source": [
        "**8. What is a hash table, and how does it relate to dictionaries in Python?**\n",
        "  - A hash table maps keys to values using a hash function. In Python, dictionaries use hash tables internally.\n",
        "  - e.g.: my_details = {\"name\": \"Sumit\", \"age\": 30}"
      ],
      "metadata": {
        "id": "-DWoeEK9Xn2v"
      }
    },
    {
      "cell_type": "markdown",
      "source": [
        "**9. Can lists contain different data types in Python?**\n",
        "  - Yes. Python lists can hold heterogeneous data.\n",
        "  - my_list = [1, \"hello\", 3.14, [1, 2]]"
      ],
      "metadata": {
        "id": "nlWbFNPoYRcg"
      }
    },
    {
      "cell_type": "markdown",
      "source": [
        "**10.  Explain why strings are immutable in Python?**\n",
        "  - Because, any operation that appears to change a string, such as concatenation or replacement, actually results in the creation of a new string object in memory, while the original string remains untouched."
      ],
      "metadata": {
        "id": "kmrCxjomYv-y"
      }
    },
    {
      "cell_type": "markdown",
      "source": [
        "**11. What advantages do dictionaries offer over lists for certain tasks?**\n",
        "  - Easier to read/write than indexed lists\n",
        "  - No need to search for indexes\n",
        "   - Example:\n",
        "\n",
        "     - List\n",
        "       - user = [\"Alice\", 30]\n",
        "       - user[1]  \n",
        "\n",
        "     - Dictionary\n",
        "       - user = {\"name\": \"Alice\", \"age\": 30}\n",
        "       - user[\"age\"]  "
      ],
      "metadata": {
        "id": "uA02bKmvaEoN"
      }
    },
    {
      "cell_type": "markdown",
      "source": [
        "**12. Describe a scenario where using a tuple would be preferable over a list?**\n",
        "  - If you don't want your data to be changed and prefer it to be read-only, then you should choose the tuple data type over lists.\n",
        "  "
      ],
      "metadata": {
        "id": "DexFI7eDbbZA"
      }
    },
    {
      "cell_type": "markdown",
      "source": [
        "**13. How do sets handle duplicate values in Python?**\n",
        "  - Sets automatically eliminate duplicates\n",
        "  - sets = {1, 2, 2, 3}\n",
        "  - print(sets)\n",
        "  - output : (1,2,3)"
      ],
      "metadata": {
        "id": "BTid_qcrcxTE"
      }
    },
    {
      "cell_type": "markdown",
      "source": [
        "**14. How does the “in” keyword work differently for lists and dictionaries?**\n",
        "  - List: Checks if a value exists.\n",
        "  - Dictionary: Checks if a key exists."
      ],
      "metadata": {
        "id": "9-nd4_fGdk1-"
      }
    },
    {
      "cell_type": "markdown",
      "source": [
        "**15. Can you modify the elements of a tuple? Explain why or why not?**\n",
        "  - No. Tuples are immutable, so elements cannot be changed after creation.\n",
        "  - If we trying to do any modification in tuple,it will throw an error.\n",
        "\n"
      ],
      "metadata": {
        "id": "QyEZsFvKeAJG"
      }
    },
    {
      "cell_type": "markdown",
      "source": [
        "**16.  What is a nested dictionary, and give an example of its use case?**\n",
        "  - A nested dictionary is a dictionary within a dictionary.\n",
        "  - Example:\n",
        "    - students = {\n",
        "    \"101\": {\"name\": \"Alice\", \"age\": 20},\n",
        "    \"102\": {\"name\": \"Bob\", \"age\": 21}\n",
        "}\n"
      ],
      "metadata": {
        "id": "CAXYHeaZet-H"
      }
    },
    {
      "cell_type": "markdown",
      "source": [
        "**17. Describe the time complexity of accessing elements in a dictionary.**\n",
        "  -"
      ],
      "metadata": {
        "id": "VXLFQicqju8G"
      }
    },
    {
      "cell_type": "markdown",
      "source": [
        "**18. In what situations are lists preferred over dictionaries.**\n",
        " - When order matters\n",
        " - When using sequences or iterations\n",
        " - When there is no need for named keys"
      ],
      "metadata": {
        "id": "4DGH3xxQkyMb"
      }
    },
    {
      "cell_type": "markdown",
      "source": [
        "**19. Why are dictionaries considered unordered, and how does that affect data retrieval?**\n",
        "  - In dictionaries, the items do not have a defined order, you cannot refer to an item by using an index.\n",
        "  - In dictionaries retrieve values based on their associated keys. To get a value, you must provide the exact key used during its insertion.\n",
        "  - If you attempt to retrieve a value using a key that does not exist in the dictionary, Python will raise a KeyError. This signifies that the requested key was not found.\n"
      ],
      "metadata": {
        "id": "mVC1gETxlOCg"
      }
    },
    {
      "cell_type": "markdown",
      "source": [
        "**20. Explain the difference between a list and a dictionary in terms of data retrieval.**\n",
        "  - List: Access by index\n",
        "    - my_list=[1,2,3,4]\n",
        "    - my_list[2]\n",
        "  - Dictionary: Access by key\n",
        "   - user = {\"name\": \"Alice\", \"age\": 30}\n",
        "       - user[\"age\"]"
      ],
      "metadata": {
        "id": "y4lqLsOxn4PI"
      }
    },
    {
      "cell_type": "markdown",
      "source": [
        "# **Pratical Questions**"
      ],
      "metadata": {
        "id": "cH3I7_jIqGQ_"
      }
    },
    {
      "cell_type": "markdown",
      "source": [
        "1. Write a code to create a string with your name and print it.\n",
        " -\n"
      ],
      "metadata": {
        "id": "aj-o3MC7qOCF"
      }
    },
    {
      "cell_type": "code",
      "source": [
        "# 1. Write a code to create a string with your name and print it\n",
        "name = \"Sumit Thorat\"\n",
        "print(name)\n"
      ],
      "metadata": {
        "id": "u8nMhS3GqwlF"
      },
      "execution_count": null,
      "outputs": []
    },
    {
      "cell_type": "code",
      "source": [
        "# 2. Write a code to find the length of the string \"Hello World\".\n",
        "a='Hello World'\n",
        "len(a)"
      ],
      "metadata": {
        "colab": {
          "base_uri": "https://localhost:8080/"
        },
        "id": "Jrsx2Mnmq-sD",
        "outputId": "7f298a3e-2737-4ee3-843d-84cecf78c49b"
      },
      "execution_count": null,
      "outputs": [
        {
          "output_type": "execute_result",
          "data": {
            "text/plain": [
              "11"
            ]
          },
          "metadata": {},
          "execution_count": 1
        }
      ]
    },
    {
      "cell_type": "code",
      "source": [
        "# 3.  Write a code to slice the first 3 characters from the string \"Python Programming\".\n",
        "text = \"Python Programming\"\n",
        "print(text[:3])"
      ],
      "metadata": {
        "colab": {
          "base_uri": "https://localhost:8080/"
        },
        "id": "EA6LqIWUrYCc",
        "outputId": "6a86d816-0dba-4469-92d5-860a424ed11e"
      },
      "execution_count": null,
      "outputs": [
        {
          "output_type": "stream",
          "name": "stdout",
          "text": [
            "Pyt\n"
          ]
        }
      ]
    },
    {
      "cell_type": "code",
      "source": [
        "# 4. Write a code to convert the string \"hello\" to uppercase.\n",
        "s = \"hello\"\n",
        "print(s.upper())"
      ],
      "metadata": {
        "colab": {
          "base_uri": "https://localhost:8080/"
        },
        "id": "ehvlCY4Erpds",
        "outputId": "f6c552d2-d620-4841-e99d-f61c5703dd44"
      },
      "execution_count": null,
      "outputs": [
        {
          "output_type": "stream",
          "name": "stdout",
          "text": [
            "HELLO\n"
          ]
        }
      ]
    },
    {
      "cell_type": "code",
      "source": [
        "# 5. Write a code to replace the word \"apple\" with \"orange\" in the string \"I like apple\".\n",
        "text = \"I like apple\"\n",
        "newtext=text.replace(\"apple\",\"orange\")\n",
        "print(newtext)"
      ],
      "metadata": {
        "colab": {
          "base_uri": "https://localhost:8080/"
        },
        "id": "qPxt0uo8r8IL",
        "outputId": "6a5e80af-929f-4884-e439-086c725ca7ac"
      },
      "execution_count": null,
      "outputs": [
        {
          "output_type": "stream",
          "name": "stdout",
          "text": [
            "I like orange\n"
          ]
        }
      ]
    },
    {
      "cell_type": "code",
      "source": [
        "# 6. Write a code to create a list with numbers 1 to 5 and print it.\n",
        "l=[1,2,3,4,5]\n",
        "for x in l:\n",
        "  print(x)"
      ],
      "metadata": {
        "colab": {
          "base_uri": "https://localhost:8080/"
        },
        "id": "m51-r0jatHhA",
        "outputId": "e0769b41-8c4a-489a-f3dc-8a435ee1ef36"
      },
      "execution_count": null,
      "outputs": [
        {
          "output_type": "stream",
          "name": "stdout",
          "text": [
            "1\n",
            "2\n",
            "3\n",
            "4\n",
            "5\n"
          ]
        }
      ]
    },
    {
      "cell_type": "code",
      "source": [
        "# 7. Write a code to append the number 10 to the list [1, 2, 3, 4].\n",
        "lists=[1,2,3,4]\n",
        "lists.append(10)\n",
        "print(lists)"
      ],
      "metadata": {
        "colab": {
          "base_uri": "https://localhost:8080/"
        },
        "id": "HfYzq779t6FI",
        "outputId": "486b725f-7b79-4c47-eaf4-8c88d7e4146d"
      },
      "execution_count": null,
      "outputs": [
        {
          "output_type": "stream",
          "name": "stdout",
          "text": [
            "[1, 2, 3, 4, 10]\n"
          ]
        }
      ]
    },
    {
      "cell_type": "code",
      "source": [
        "# 8. Write a code to remove the number 3 from the list [1, 2, 3, 4, 5].\n",
        "lists= [1, 2, 3, 4, 5]\n",
        "lists.remove(3)\n",
        "print(lists)\n"
      ],
      "metadata": {
        "colab": {
          "base_uri": "https://localhost:8080/"
        },
        "id": "oIx0hGvKuoen",
        "outputId": "cddf9256-43ed-42b1-a828-2c9cbd805a57"
      },
      "execution_count": null,
      "outputs": [
        {
          "output_type": "stream",
          "name": "stdout",
          "text": [
            "[1, 2, 4, 5]\n"
          ]
        }
      ]
    },
    {
      "cell_type": "code",
      "source": [
        "# 9. Write a code to access the second element in the list ['a', 'b', 'c', 'd'].\n",
        "\n",
        "lists= ['a', 'b', 'c', 'd']\n",
        "lists[1]"
      ],
      "metadata": {
        "colab": {
          "base_uri": "https://localhost:8080/",
          "height": 36
        },
        "id": "2srSC0TIwOCm",
        "outputId": "9aa8641f-fcf2-4358-fd17-b5fb21a45bf5"
      },
      "execution_count": null,
      "outputs": [
        {
          "output_type": "execute_result",
          "data": {
            "text/plain": [
              "'b'"
            ],
            "application/vnd.google.colaboratory.intrinsic+json": {
              "type": "string"
            }
          },
          "metadata": {},
          "execution_count": 13
        }
      ]
    },
    {
      "cell_type": "code",
      "source": [
        "# 10. Write a code to reverse the list [10, 20, 30, 40, 50].\n",
        "\n",
        "lists= [10, 20, 30, 40, 50]\n",
        "lists.reverse()\n",
        "print(lists)"
      ],
      "metadata": {
        "colab": {
          "base_uri": "https://localhost:8080/"
        },
        "id": "j7u0ixkowg2Z",
        "outputId": "b13619bc-2d23-4ea3-b7a7-c23a2aa497a3"
      },
      "execution_count": null,
      "outputs": [
        {
          "output_type": "stream",
          "name": "stdout",
          "text": [
            "[50, 40, 30, 20, 10]\n"
          ]
        }
      ]
    },
    {
      "cell_type": "code",
      "source": [
        "# 11. Write a code to create a tuple with the elements 100, 200, 300 and print it.\n",
        "\n",
        "my_tuples=(100,200,300)\n",
        "print(my_tuples)"
      ],
      "metadata": {
        "colab": {
          "base_uri": "https://localhost:8080/"
        },
        "id": "lBs03zM_OLtJ",
        "outputId": "4ee3d199-43a5-447d-c913-ee6a5a1816bc"
      },
      "execution_count": null,
      "outputs": [
        {
          "output_type": "stream",
          "name": "stdout",
          "text": [
            "(100, 200, 300)\n"
          ]
        }
      ]
    },
    {
      "cell_type": "code",
      "source": [
        "# 12. Write a code to access the second-to-last element of the tuple ('red', 'green', 'blue', 'yellow').\n",
        "\n",
        "tuples= ('red', 'green', 'blue', 'yellow')\n",
        "tuples[1:]"
      ],
      "metadata": {
        "colab": {
          "base_uri": "https://localhost:8080/"
        },
        "id": "il5mVQIFOjdO",
        "outputId": "7988d3bc-f1c4-4fe8-b7fa-9c786bf3934e"
      },
      "execution_count": null,
      "outputs": [
        {
          "output_type": "execute_result",
          "data": {
            "text/plain": [
              "('green', 'blue', 'yellow')"
            ]
          },
          "metadata": {},
          "execution_count": 3
        }
      ]
    },
    {
      "cell_type": "code",
      "source": [
        "#13. Write a code to find the minimum number in the tuple (10, 20, 5, 15).\n",
        "\n",
        "tuples= (10, 20, 5, 15)\n",
        "min(tuples)\n"
      ],
      "metadata": {
        "colab": {
          "base_uri": "https://localhost:8080/"
        },
        "id": "BF5ZkNU3PEO7",
        "outputId": "a5535d21-d401-4d8c-f3c1-c63d1a3b9357"
      },
      "execution_count": null,
      "outputs": [
        {
          "output_type": "execute_result",
          "data": {
            "text/plain": [
              "5"
            ]
          },
          "metadata": {},
          "execution_count": 5
        }
      ]
    },
    {
      "cell_type": "code",
      "source": [
        "#14. Write a code to find the index of the element \"cat\" in the tuple ('dog', 'cat', 'rabbit').\n",
        "\n",
        "tuples= ('dog', 'cat', 'rabbit')\n",
        "tuples.index('cat')"
      ],
      "metadata": {
        "colab": {
          "base_uri": "https://localhost:8080/"
        },
        "id": "KqvKf8DYP47J",
        "outputId": "0a84f05a-7c83-4ebe-e42b-2ebaa730a1c1"
      },
      "execution_count": null,
      "outputs": [
        {
          "output_type": "execute_result",
          "data": {
            "text/plain": [
              "1"
            ]
          },
          "metadata": {},
          "execution_count": 6
        }
      ]
    },
    {
      "cell_type": "code",
      "source": [
        "# 15. Write a code to create a tuple containing three different fruits and check if \"kiwi\" is in it.\n",
        "\n",
        "fruits1=('apple','orange','kiwi')\n",
        "print('kiwi' in fruits1)\n",
        "\n",
        "fruit2=('apple','orange','banana')\n",
        "print('kiwi' in fruit2)\n"
      ],
      "metadata": {
        "colab": {
          "base_uri": "https://localhost:8080/"
        },
        "id": "GLxc834FQR2g",
        "outputId": "91c17f66-c01a-4831-8704-bd853a0086b7"
      },
      "execution_count": null,
      "outputs": [
        {
          "output_type": "stream",
          "name": "stdout",
          "text": [
            "True\n",
            "False\n"
          ]
        }
      ]
    },
    {
      "cell_type": "code",
      "source": [
        "# 16. Write a code to create a set with the elements 'a', 'b', 'c' and print it.\n",
        "\n",
        "sets={'a','b','c'}\n",
        "type(sets)\n",
        "for x in sets:\n",
        "  print(x)"
      ],
      "metadata": {
        "colab": {
          "base_uri": "https://localhost:8080/"
        },
        "id": "oV0VPiZTRiLG",
        "outputId": "ae781eff-8fd8-4785-eeb1-cbc6327bd4a2"
      },
      "execution_count": null,
      "outputs": [
        {
          "output_type": "stream",
          "name": "stdout",
          "text": [
            "b\n",
            "c\n",
            "a\n"
          ]
        }
      ]
    },
    {
      "cell_type": "code",
      "source": [
        "#17. Write a code to clear all elements from the set {1, 2, 3, 4, 5}.\n",
        "\n",
        "sets={1,2,3,4,5}\n",
        "print(sets)\n",
        "sets.clear()\n",
        "print(sets)\n",
        "\n",
        "\n"
      ],
      "metadata": {
        "colab": {
          "base_uri": "https://localhost:8080/"
        },
        "id": "6rGbrGPLSk4X",
        "outputId": "cc232a32-f393-4174-8856-068c4c1f439c"
      },
      "execution_count": null,
      "outputs": [
        {
          "output_type": "stream",
          "name": "stdout",
          "text": [
            "{1, 2, 3, 4, 5}\n",
            "set()\n"
          ]
        }
      ]
    },
    {
      "cell_type": "code",
      "source": [
        "# 18. Write a code to remove the element 4 from the set {1, 2, 3, 4}.\n",
        "\n",
        "sets= {1, 2, 3, 4}\n",
        "sets.remove(4)\n",
        "print(sets)\n",
        "\n"
      ],
      "metadata": {
        "colab": {
          "base_uri": "https://localhost:8080/"
        },
        "id": "hfFUHdQJTQmp",
        "outputId": "269fe188-dbca-4659-d4ce-5a50a9c90f03"
      },
      "execution_count": null,
      "outputs": [
        {
          "output_type": "stream",
          "name": "stdout",
          "text": [
            "{1, 2, 3}\n"
          ]
        }
      ]
    },
    {
      "cell_type": "code",
      "source": [
        "# 19.  Write a code to find the union of two sets {1, 2, 3} and {3, 4, 5}.\n",
        "\n",
        "set1={1, 2, 3}\n",
        "set2={3,4,5}\n",
        "print(set1.union(set2))\n",
        "\n"
      ],
      "metadata": {
        "colab": {
          "base_uri": "https://localhost:8080/"
        },
        "id": "b_N9ITX8Tv4v",
        "outputId": "94684be2-e6a7-4ed1-dbbb-cf25dd568dbf"
      },
      "execution_count": null,
      "outputs": [
        {
          "output_type": "stream",
          "name": "stdout",
          "text": [
            "{1, 2, 3, 4, 5}\n"
          ]
        }
      ]
    },
    {
      "cell_type": "code",
      "source": [
        "# 20. Write a code to find the intersection of two sets {1, 2, 3} and {2, 3, 4}.\n",
        "\n",
        "set1={1,2,3}\n",
        "sets2={2,3,4}\n",
        "print(set1.intersection(sets2))"
      ],
      "metadata": {
        "colab": {
          "base_uri": "https://localhost:8080/"
        },
        "id": "QbF6WT2DTv1Q",
        "outputId": "39bd84b6-d5c6-4d5f-af5c-f7069db3e61e"
      },
      "execution_count": null,
      "outputs": [
        {
          "output_type": "stream",
          "name": "stdout",
          "text": [
            "{2, 3}\n"
          ]
        }
      ]
    },
    {
      "cell_type": "code",
      "source": [
        "# 21. Write a code to create a dictionary with the keys \"name\", \"age\", and \"city\", and print it.\n",
        "\n",
        "my_profile={\"name\":\"Sumit\",\"age\":\"30\",\"city\":\"Pune\"}\n",
        "print(my_profile)"
      ],
      "metadata": {
        "colab": {
          "base_uri": "https://localhost:8080/"
        },
        "id": "qkbx-S1_Tvxx",
        "outputId": "80b0a539-aa73-4cea-a2b0-167ef398c79b"
      },
      "execution_count": null,
      "outputs": [
        {
          "output_type": "stream",
          "name": "stdout",
          "text": [
            "{'name': 'Sumit', 'age': '30', 'city': 'Pune'}\n"
          ]
        }
      ]
    },
    {
      "cell_type": "code",
      "source": [
        "# 22.  Write a code to add a new key-value pair \"country\": \"USA\" to the dictionary {'name': 'John', 'age': 25}\n",
        "\n",
        "person={'name': 'John', 'age': 25}\n",
        "person['country']='USA'\n",
        "print(person)\n"
      ],
      "metadata": {
        "colab": {
          "base_uri": "https://localhost:8080/"
        },
        "id": "29iLpkR_TvsC",
        "outputId": "1fac2adb-e0f2-441e-95cf-1e93d218b7dd"
      },
      "execution_count": null,
      "outputs": [
        {
          "output_type": "stream",
          "name": "stdout",
          "text": [
            "{'name': 'John', 'age': 25, 'country': 'USA'}\n"
          ]
        }
      ]
    },
    {
      "cell_type": "code",
      "source": [
        "# 23. Write a code to access the value associated with the key \"name\" in the dictionary {'name': 'Alice', 'age': 30}.\n",
        "\n",
        "dictionary1= {'name': 'Alice', 'age': 30}\n",
        "print(dictionary1['name'])"
      ],
      "metadata": {
        "colab": {
          "base_uri": "https://localhost:8080/"
        },
        "id": "CKphiMOfTvm8",
        "outputId": "761559a8-b6d1-451e-9ca3-1898c08e2ae4"
      },
      "execution_count": null,
      "outputs": [
        {
          "output_type": "stream",
          "name": "stdout",
          "text": [
            "Alice\n"
          ]
        }
      ]
    },
    {
      "cell_type": "code",
      "source": [
        "# 24. Write a code to remove the key \"age\" from the dictionary {'name': 'Bob', 'age': 22, 'city': 'New York'}.\n",
        "\n",
        "dictionary2= {'name': 'Bob', 'age': 22, 'city': 'New York'}\n",
        "del(dictionary2['age'])\n",
        "print(dictionary2)\n",
        "\n"
      ],
      "metadata": {
        "colab": {
          "base_uri": "https://localhost:8080/"
        },
        "id": "tqAT-RVVZMwT",
        "outputId": "6b60a3d8-61a8-4585-c475-ea51142e0605"
      },
      "execution_count": null,
      "outputs": [
        {
          "output_type": "stream",
          "name": "stdout",
          "text": [
            "{'name': 'Bob', 'city': 'New York'}\n"
          ]
        }
      ]
    },
    {
      "cell_type": "code",
      "source": [
        "# 25.Write a code to check if the key \"city\" exists in the dictionary {'name': 'Alice', 'city': 'Paris'}.\n",
        "\n",
        "dict1={'name': 'Alice', 'city': 'Paris'}\n",
        "print('city' in dict1)\n"
      ],
      "metadata": {
        "colab": {
          "base_uri": "https://localhost:8080/"
        },
        "id": "J-ejflBDa1GN",
        "outputId": "3e226018-758f-4018-8b11-87794e3f8e37"
      },
      "execution_count": null,
      "outputs": [
        {
          "output_type": "stream",
          "name": "stdout",
          "text": [
            "True\n"
          ]
        }
      ]
    },
    {
      "cell_type": "code",
      "source": [
        "# 26. Write a code to create a list, a tuple, and a dictionary, and print them all.\n",
        "\n",
        "lst = [1, 2, 3]\n",
        "tpl = (4, 5, 6)\n",
        "dct = {'a': 1, 'b': 2}\n",
        "print(f\"This is list items= {lst}\")\n",
        "print(f\"This is tuple items= {tpl}\")\n",
        "print(f\"This is dict items= {dct}\")"
      ],
      "metadata": {
        "colab": {
          "base_uri": "https://localhost:8080/"
        },
        "id": "s50zRnomTvOe",
        "outputId": "f5297c96-23e5-421a-89be-6277b58da805"
      },
      "execution_count": null,
      "outputs": [
        {
          "output_type": "stream",
          "name": "stdout",
          "text": [
            "This is list items= [1, 2, 3]\n",
            "This is tuple items= (4, 5, 6)\n",
            "This is dict items= {'a': 1, 'b': 2}\n"
          ]
        }
      ]
    },
    {
      "cell_type": "code",
      "source": [
        "'''27. Write a code to create a list of 5 random numbers between 1 and 100, sort it in ascending order, and print the\n",
        "result.(replaced)\n",
        "'''\n",
        "\n",
        "list1=[10,20,40,30,50]\n",
        "list1.sort()\n",
        "print(list1)"
      ],
      "metadata": {
        "colab": {
          "base_uri": "https://localhost:8080/"
        },
        "id": "RgAcJTAUTu_d",
        "outputId": "20e6944f-bc6e-4f72-ad80-4b8fdfbc41f9"
      },
      "execution_count": null,
      "outputs": [
        {
          "output_type": "stream",
          "name": "stdout",
          "text": [
            "[10, 20, 30, 40, 50]\n"
          ]
        }
      ]
    },
    {
      "cell_type": "code",
      "source": [
        "# 28. Write a code to create a list with strings and print the element at the third index.\n",
        "\n",
        "fruits3 =['apple','mango','banana','orange','grapes']\n",
        "print(fruits3[3])"
      ],
      "metadata": {
        "colab": {
          "base_uri": "https://localhost:8080/"
        },
        "id": "xa4iWfsudqoH",
        "outputId": "7f962410-dedd-40a5-9590-951704fc40ab"
      },
      "execution_count": null,
      "outputs": [
        {
          "output_type": "stream",
          "name": "stdout",
          "text": [
            "orange\n"
          ]
        }
      ]
    },
    {
      "cell_type": "code",
      "source": [
        "# 29. Write a code to combine two dictionaries into one and print the result.\n",
        "\n",
        "a = {'x': 1, 'y': 2}\n",
        "b = {'z': 3, 'w': 4}\n",
        "a.update(b)\n",
        "print(a)\n"
      ],
      "metadata": {
        "colab": {
          "base_uri": "https://localhost:8080/"
        },
        "id": "03NbnFRedqR0",
        "outputId": "0240b42b-5386-4754-9c6d-e013eab90871"
      },
      "execution_count": null,
      "outputs": [
        {
          "output_type": "stream",
          "name": "stdout",
          "text": [
            "{'x': 1, 'y': 2, 'z': 3, 'w': 4}\n"
          ]
        }
      ]
    },
    {
      "cell_type": "code",
      "source": [
        "# 30. Write a code to convert a list of strings into a set.\n",
        "\n",
        "str_list = ['apple', 'banana', 'cherry', 'apple']\n",
        "str_set = set(str_list)\n",
        "print(str_set)"
      ],
      "metadata": {
        "colab": {
          "base_uri": "https://localhost:8080/"
        },
        "id": "8RirBvAOgd95",
        "outputId": "09c20c94-13a2-43ee-d3dc-ec0a26b6df71"
      },
      "execution_count": null,
      "outputs": [
        {
          "output_type": "stream",
          "name": "stdout",
          "text": [
            "{'banana', 'cherry', 'apple'}\n"
          ]
        }
      ]
    }
  ]
}
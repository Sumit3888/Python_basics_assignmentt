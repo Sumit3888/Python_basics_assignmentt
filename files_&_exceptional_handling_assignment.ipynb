{
  "nbformat": 4,
  "nbformat_minor": 0,
  "metadata": {
    "colab": {
      "provenance": []
    },
    "kernelspec": {
      "name": "python3",
      "display_name": "Python 3"
    },
    "language_info": {
      "name": "python"
    }
  },
  "cells": [
    {
      "cell_type": "code",
      "execution_count": null,
      "metadata": {
        "id": "cuH5LSp95dX4"
      },
      "outputs": [],
      "source": []
    },
    {
      "cell_type": "markdown",
      "source": [
        "**1. What is the difference between interpreted and compiled languages?**\n",
        "  - Compiled languages (e.g., C++) are transformed into machine code before execution.\n",
        "  - Interpreted languages (e.g., Python) are executed line-by-line by an interpreter at runtime."
      ],
      "metadata": {
        "id": "jwhjLxetYPtp"
      }
    },
    {
      "cell_type": "markdown",
      "source": [
        "**2. What is exception handling in Python?**\n",
        "  - Exception is an event that occurs during program execution that disrupts the regular flow of code.\n",
        "  - Exception handling is a mechanism to gracefully respond to runtime errors using try, except, finally, and else blocks."
      ],
      "metadata": {
        "id": "bbfkNu77YiAS"
      }
    },
    {
      "cell_type": "markdown",
      "source": [
        "**3. What is the purpose of the finally block in exception handling?**\n",
        "  - Finally block will execute when try block will execute successfully without any exception.\n",
        "  - It defines code that always runs after the try/except blocks, regardless of whether an exception occurred—commonly used for cleanup actions."
      ],
      "metadata": {
        "id": "Wp9S82TuZfcP"
      }
    },
    {
      "cell_type": "markdown",
      "source": [
        "**4. What is logging in Python?**\n",
        "- Logging records messages (info, warnings, errors) to help developers monitor program execution and debug issues."
      ],
      "metadata": {
        "id": "RVnR2LKmZ93i"
      }
    },
    {
      "cell_type": "markdown",
      "source": [
        "**5. What is the significance of the __del__ method in Python?**\n",
        "  - __ del__ is a destructor method called when an object is about to be destroyed, often used to release resources."
      ],
      "metadata": {
        "id": "hHfGKTTGaIFZ"
      }
    },
    {
      "cell_type": "markdown",
      "source": [
        "**6. What is the difference between import and from ... import in Python?**\n",
        "  - **import module:** You access functions with module.function().\n",
        "  - **from module import function:** You access function() directly."
      ],
      "metadata": {
        "id": "9_Y7Odwiae4x"
      }
    },
    {
      "cell_type": "markdown",
      "source": [
        "**7. How can you handle multiple exceptions in Python?**\n",
        "  - Use multiple except blocks:\n",
        "  - Example:\n",
        "\n",
        "  try:\n",
        "\n",
        "    (block of code)\n",
        "\n",
        "  except (TypeError, ValueError) as e:\n",
        "\n",
        "      print(e)\n"
      ],
      "metadata": {
        "id": "8WEDuR4WawMi"
      }
    },
    {
      "cell_type": "markdown",
      "source": [
        "**8. What is the purpose of the with statement when handling files in Python?**\n",
        "  - It ensures files are automatically closed after use, even if exceptions occur."
      ],
      "metadata": {
        "id": "McurKySpbYR7"
      }
    },
    {
      "cell_type": "markdown",
      "source": [
        "**9. What is the difference between multithreading and multiprocessing?**\n",
        "  - **Multithreading:** Multiple threads share the same memory space; better for I/O-bound tasks.\n",
        "  - **Multiprocessing:** Separate processes with separate memory; better for CPU-bound tasks."
      ],
      "metadata": {
        "id": "ynT3B2GRbtV0"
      }
    },
    {
      "cell_type": "markdown",
      "source": [],
      "metadata": {
        "id": "t9KjJWodbt-E"
      }
    },
    {
      "cell_type": "markdown",
      "source": [
        "**10. What are the advantages of using logging in a program?**\n",
        "  - Debugging aid\n",
        "\n",
        "  - Tracks program execution\n",
        "\n",
        "  - Can be saved to files\n",
        "\n",
        "  - Adjustable verbosity (logging levels)\n",
        "\n"
      ],
      "metadata": {
        "id": "obxEu23_bvC5"
      }
    },
    {
      "cell_type": "markdown",
      "source": [],
      "metadata": {
        "id": "wz9r3lO_bvM1"
      }
    },
    {
      "cell_type": "markdown",
      "source": [
        "**11. What is memory management in Python?**\n",
        "  - Python handles memory automatically using:\n",
        "\n",
        "    - Reference counting\n",
        "\n",
        "    - Garbage collection\n",
        "\n",
        "    - Memory pools"
      ],
      "metadata": {
        "id": "uxK5IHHdbvUA"
      }
    },
    {
      "cell_type": "markdown",
      "source": [
        "**12. What are the basic steps involved in exception handling in Python?**\n",
        "  - Use try to wrap risky code.\n",
        "\n",
        "  - Use except to handle exceptions.\n",
        "\n",
        "  - Use else for code when no exception occurs.\n",
        "\n",
        "  - Use finally for cleanup code."
      ],
      "metadata": {
        "id": "S23GNingbvY5"
      }
    },
    {
      "cell_type": "markdown",
      "source": [
        "**13. Why is memory management important in Python?**\n",
        "  - It helps avoid memory leaks, improves performance, and ensures efficient use of system resources.\n",
        "\n"
      ],
      "metadata": {
        "id": "I4HORGRebvdL"
      }
    },
    {
      "cell_type": "markdown",
      "source": [
        "**14. What is the role of try and except in exception handling?**\n",
        "  - try: Contains code that might throw an exception.\n",
        "\n",
        "  - except: Contains code to handle the exception."
      ],
      "metadata": {
        "id": "Athg0z7Ebvgq"
      }
    },
    {
      "cell_type": "markdown",
      "source": [
        "**15. How does Python's garbage collection system work?**\n",
        "  - It uses reference counting and a cyclic garbage collector to reclaim memory used by objects no longer in use."
      ],
      "metadata": {
        "id": "_MRBGvT6bvkQ"
      }
    },
    {
      "cell_type": "markdown",
      "source": [
        "**16. What is the purpose of the else block in exception handling?**\n",
        "  - Runs only if no exception occurs in the try block—used to keep success logic separate from error handling."
      ],
      "metadata": {
        "id": "Y47kIUdHbvn4"
      }
    },
    {
      "cell_type": "markdown",
      "source": [
        "**17. What are the common logging levels in Python?**\n",
        "  - DEBUG\n",
        "\n",
        "  - INFO\n",
        "\n",
        "  - WARNING\n",
        "\n",
        "  - ERROR\n",
        "\n",
        "  - CRITICAL"
      ],
      "metadata": {
        "id": "FDpHr6mCbvsA"
      }
    },
    {
      "cell_type": "markdown",
      "source": [
        "**18. What is the difference between os.fork() and multiprocessing in Python?**\n",
        "  - os.fork() is low-level (Unix-only) and creates a child process.\n",
        "\n",
        "  - multiprocessing is high-level, portable, and provides better control and communication tools."
      ],
      "metadata": {
        "id": "Cd2ryXLnbvwl"
      }
    },
    {
      "cell_type": "markdown",
      "source": [
        "**19. What is the importance of closing a file in Python?**\n",
        "  - Releases system resources and ensures data is saved properly. Failing to close files may lead to memory leaks or data loss."
      ],
      "metadata": {
        "id": "C1LUb1fTbv2Q"
      }
    },
    {
      "cell_type": "markdown",
      "source": [
        "**20.  What is the difference between file.read() and file.readline() in Python?**\n",
        "  - read(): Reads entire file as a string.\n",
        "\n",
        "  - readline(): Reads one line at a time."
      ],
      "metadata": {
        "id": "LvPx6Urobv6k"
      }
    },
    {
      "cell_type": "markdown",
      "source": [
        "**21. What is the logging module in Python used for?**\n",
        "  - To record messages at different severity levels and output them to console or files for debugging and monitoring."
      ],
      "metadata": {
        "id": "4J7pU_5yiy2z"
      }
    },
    {
      "cell_type": "markdown",
      "source": [
        "**22. What is the os module in Python used for in file handling?**\n",
        "  - Used for file and directory operations like creating, deleting, renaming, and navigating the file system."
      ],
      "metadata": {
        "id": "BmjY5gEjiynQ"
      }
    },
    {
      "cell_type": "markdown",
      "source": [
        "**23.  What are the challenges associated with memory management in Python?**\n",
        "  - Detecting circular references\n",
        "\n",
        "  - Managing large objects\n",
        "\n",
        "  - Hidden memory leaks from long-lived references"
      ],
      "metadata": {
        "id": "CA0YTAjHiyWH"
      }
    },
    {
      "cell_type": "markdown",
      "source": [
        "**24. How do you raise an exception manually in Python?**\n",
        "  - By using this statement.\n",
        "      - raise ValueError(\"Invalid input\")"
      ],
      "metadata": {
        "id": "rT4f6BoOiyKZ"
      }
    },
    {
      "cell_type": "markdown",
      "source": [
        "**25. Why is it important to use multithreading in certain applications?**\n",
        "  - It improves performance for I/O-bound tasks (e.g., network requests, file I/O) by allowing multiple operations to proceed in parallel."
      ],
      "metadata": {
        "id": "FmKb_EX_ix9r"
      }
    },
    {
      "cell_type": "markdown",
      "source": [
        "# **Practical Questions:**"
      ],
      "metadata": {
        "id": "Z98lO-TFkAGv"
      }
    },
    {
      "cell_type": "code",
      "source": [
        "#1. How can you open a file for writing in Python and write a string to it?\n",
        "\n",
        "with open(\"output.txt\", \"w\") as file:\n",
        "    file.write(\"Hello, world!\")\n"
      ],
      "metadata": {
        "id": "-5TfWwsGkGFB"
      },
      "execution_count": 1,
      "outputs": []
    },
    {
      "cell_type": "code",
      "source": [
        "#2. Write a Python program to read the contents of a file and print each line?\n",
        "\n",
        "file = open(\"file.txt\",\"w\")\n",
        "file.write(\"This is my first line \\n\")\n",
        "file.write(\"This is my second line \\n\")\n",
        "file.close()\n",
        "file = open(\"file.txt\",\"r\")\n",
        "file.seek(0) # it will bring cursor to start of the file\n",
        "print(file.read())"
      ],
      "metadata": {
        "colab": {
          "base_uri": "https://localhost:8080/"
        },
        "id": "ULZN0hWWllh5",
        "outputId": "b416b5b6-c0ee-4ed3-818a-97c4405c54de"
      },
      "execution_count": 4,
      "outputs": [
        {
          "output_type": "stream",
          "name": "stdout",
          "text": [
            "This is my first line \n",
            "This is my second line \n",
            "\n"
          ]
        }
      ]
    },
    {
      "cell_type": "code",
      "source": [
        "#3. How would you handle a case where the file doesn't exist while trying to open it for reading?\n",
        "\n",
        "try:\n",
        "    with open(\"nonexistent.txt\", \"r\") as file:\n",
        "        print(file.read())\n",
        "except FileNotFoundError:\n",
        "    print(\"The file does not exist.\")"
      ],
      "metadata": {
        "colab": {
          "base_uri": "https://localhost:8080/"
        },
        "id": "PuxxjPXpmb0w",
        "outputId": "ec07b3d0-c053-4350-f7e4-9b09ba52a712"
      },
      "execution_count": 5,
      "outputs": [
        {
          "output_type": "stream",
          "name": "stdout",
          "text": [
            "The file does not exist.\n"
          ]
        }
      ]
    },
    {
      "cell_type": "code",
      "source": [
        "#4. Write a Python script that reads from one file and writes its content to another file\n",
        "\n",
        "file = open(\"source.txt\",\"w\")\n",
        "file.write(\"This is my first line \\n\")\n",
        "file.write(\"This is my second line \\n\")\n",
        "file.close()\n",
        "with open(\"source.txt\", \"r\") as src, open(\"destination.txt\", \"w\") as dest:\n",
        "    for line in src:\n",
        "        dest.write(line)\n"
      ],
      "metadata": {
        "id": "0TMXs0HNmw4k"
      },
      "execution_count": 7,
      "outputs": []
    },
    {
      "cell_type": "code",
      "source": [
        "#5.  How would you catch and handle division by zero error in Python?\n",
        "\n",
        "try:\n",
        "  5/0\n",
        "except Exception as e:\n",
        "  print(\"Exception occured is : \",e)\n",
        "else :\n",
        "  print(\"this will execute when try block will execute successfully without any exception\")\n"
      ],
      "metadata": {
        "colab": {
          "base_uri": "https://localhost:8080/"
        },
        "id": "HTirowzMojHB",
        "outputId": "ae170aa4-805e-44fa-a789-b2b012b21f52"
      },
      "execution_count": 8,
      "outputs": [
        {
          "output_type": "stream",
          "name": "stdout",
          "text": [
            "Exception occured is :  division by zero\n"
          ]
        }
      ]
    },
    {
      "cell_type": "code",
      "source": [
        "#6. Write a Python program that logs an error message to a log file when a division by zero exception occurs?\n",
        "\n",
        "import logging\n",
        "\n",
        "logging.basicConfig(filename=\"errors.log\", level=logging.ERROR, force=True)\n",
        "\n",
        "try:\n",
        "    x = 10 / 0\n",
        "except ZeroDivisionError as e:\n",
        "    logging.error(\"Division by zero error: %s\", e)"
      ],
      "metadata": {
        "id": "9YeNVeMuo78o"
      },
      "execution_count": 10,
      "outputs": []
    },
    {
      "cell_type": "code",
      "source": [
        "#7. How do you log information at different levels (INFO, ERROR, WARNING) in Python using the logging module?\n",
        "\n",
        "import logging\n",
        "\n",
        "logging.basicConfig(filename=\"error123.log\",level=logging.DEBUG, force=True)\n",
        "\n",
        "logging.info(\"This is an info message.\")\n",
        "logging.warning(\"This is a warning.\")\n",
        "logging.error(\"This is an error.\")\n"
      ],
      "metadata": {
        "id": "CX7KfXTlpfZb"
      },
      "execution_count": 12,
      "outputs": []
    },
    {
      "cell_type": "code",
      "source": [
        "#8. Write a program to handle a file opening error using exception handling?\n",
        "\n",
        "\n",
        "\n",
        "try:\n",
        "  f=open(\"example.txt\",\"r\")\n",
        "  f.read()\n",
        "except FileNotFoundError as e:\n",
        "  print(f\"Exception occured is {e}\")\n"
      ],
      "metadata": {
        "colab": {
          "base_uri": "https://localhost:8080/"
        },
        "id": "O6A1m2egqUyp",
        "outputId": "e57f4624-5b88-4c9b-a9ab-19fea53e2259"
      },
      "execution_count": 19,
      "outputs": [
        {
          "output_type": "stream",
          "name": "stdout",
          "text": [
            "Exception occured is [Errno 2] No such file or directory: 'example.txt'\n"
          ]
        }
      ]
    },
    {
      "cell_type": "code",
      "source": [
        "#9. How can you read a file line by line and store its content in a list in Python?\n",
        "\n",
        "with open(\"file.txt\", \"r\") as file:\n",
        "    lines = file.readlines()\n",
        "print(lines)\n"
      ],
      "metadata": {
        "colab": {
          "base_uri": "https://localhost:8080/"
        },
        "id": "2WO3Tf_Lr0XY",
        "outputId": "2f888a45-e630-4562-c2a1-536f462a9b37"
      },
      "execution_count": 20,
      "outputs": [
        {
          "output_type": "stream",
          "name": "stdout",
          "text": [
            "['This is my first line \\n', 'This is my second line \\n']\n"
          ]
        }
      ]
    },
    {
      "cell_type": "code",
      "source": [
        "#10. How can you append data to an existing file in Python?\n",
        "\n",
        "with open(\"file.txt\", \"a\") as file:\n",
        "    file.write(\"Appended line\\n\")"
      ],
      "metadata": {
        "id": "O1MglXUNsAr9"
      },
      "execution_count": 21,
      "outputs": []
    },
    {
      "cell_type": "code",
      "source": [
        "#11. Write a Python program that uses a try-except block to handle an error when attempting to access a\n",
        "#    dictionary key that doesn't exist?\n",
        "\n",
        "data = {\"name\": \"Sumit\"}\n",
        "\n",
        "try:\n",
        "    print(data[\"age\"])\n",
        "except KeyError:\n",
        "    print(\"Key not found.\")\n"
      ],
      "metadata": {
        "colab": {
          "base_uri": "https://localhost:8080/"
        },
        "id": "AXGsb719syxu",
        "outputId": "9ba4aedd-12a3-43e8-c665-d38dc4c28be7"
      },
      "execution_count": 22,
      "outputs": [
        {
          "output_type": "stream",
          "name": "stdout",
          "text": [
            "Key not found.\n"
          ]
        }
      ]
    },
    {
      "cell_type": "code",
      "source": [
        "#12. Write a program that demonstrates using multiple except blocks to handle different types of exceptions.\n",
        "\n",
        "try:\n",
        "    x = int(\"abc\")\n",
        "    y = 10 / 0\n",
        "except ValueError:\n",
        "    print(\"Value error occurred.\")\n",
        "except ZeroDivisionError:\n",
        "    print(\"Division by zero error.\")"
      ],
      "metadata": {
        "colab": {
          "base_uri": "https://localhost:8080/"
        },
        "id": "_B9NgM5UtKrE",
        "outputId": "45d91f0e-4a8d-4ce8-e9c5-ae3a254dc446"
      },
      "execution_count": 23,
      "outputs": [
        {
          "output_type": "stream",
          "name": "stdout",
          "text": [
            "Value error occurred.\n"
          ]
        }
      ]
    },
    {
      "cell_type": "code",
      "source": [
        "#13. How would you check if a file exists before attempting to read it in Python?\n",
        "\n",
        "import os\n",
        "\n",
        "if os.path.exists(\"file11.txt\"):\n",
        "    with open(\"file11.txt\", \"r\") as file:\n",
        "        print(file.read())\n",
        "else:\n",
        "    print(\"File does not exist.\")\n"
      ],
      "metadata": {
        "colab": {
          "base_uri": "https://localhost:8080/"
        },
        "id": "7C53n7MvterZ",
        "outputId": "489974d7-2393-4b64-fb98-165bd2e9efdf"
      },
      "execution_count": 24,
      "outputs": [
        {
          "output_type": "stream",
          "name": "stdout",
          "text": [
            "File does not exist.\n"
          ]
        }
      ]
    },
    {
      "cell_type": "code",
      "source": [
        "#14. Write a program that uses the logging module to log both informational and error messages.\n",
        "\n",
        "import logging\n",
        "\n",
        "logging.basicConfig(filename=\"app.log\", level=logging.DEBUG, force=True)\n",
        "\n",
        "logging.info(\"Program started\")\n",
        "try:\n",
        "    result = 10 / 0\n",
        "except ZeroDivisionError as e:\n",
        "    logging.error(\"An error occurred: %s\", e)\n"
      ],
      "metadata": {
        "id": "E6LRt8Z6t0fJ"
      },
      "execution_count": 25,
      "outputs": []
    },
    {
      "cell_type": "code",
      "source": [
        "#15. Write a Python program that prints the content of a file and handles the case when the file is empty.\n",
        "\n",
        "try:\n",
        "    with open(\"file.txt\", \"r\") as file:\n",
        "        content = file.read()\n",
        "        if content:\n",
        "            print(content)\n",
        "        else:\n",
        "            print(\"The file is empty.\")\n",
        "except FileNotFoundError:\n",
        "    print(\"File not found.\")\n",
        "\n"
      ],
      "metadata": {
        "colab": {
          "base_uri": "https://localhost:8080/"
        },
        "id": "XHaChR00uRdo",
        "outputId": "fcbb5dcc-5c56-4cc6-83ec-cdc3142ce15f"
      },
      "execution_count": 26,
      "outputs": [
        {
          "output_type": "stream",
          "name": "stdout",
          "text": [
            "This is my first line \n",
            "This is my second line \n",
            "Appended line\n",
            "\n"
          ]
        }
      ]
    },
    {
      "cell_type": "code",
      "source": [
        "!pip install memory_profiler"
      ],
      "metadata": {
        "colab": {
          "base_uri": "https://localhost:8080/"
        },
        "id": "m5DlQxB1vxLJ",
        "outputId": "4dc910d9-f19a-4b8d-ff28-3206f1a31109"
      },
      "execution_count": 28,
      "outputs": [
        {
          "output_type": "stream",
          "name": "stdout",
          "text": [
            "Collecting memory_profiler\n",
            "  Downloading memory_profiler-0.61.0-py3-none-any.whl.metadata (20 kB)\n",
            "Requirement already satisfied: psutil in /usr/local/lib/python3.11/dist-packages (from memory_profiler) (5.9.5)\n",
            "Downloading memory_profiler-0.61.0-py3-none-any.whl (31 kB)\n",
            "Installing collected packages: memory_profiler\n",
            "Successfully installed memory_profiler-0.61.0\n"
          ]
        }
      ]
    },
    {
      "cell_type": "code",
      "source": [
        "#16. Demonstrate how to use memory profiling to check the memory usage of a small program.\n",
        "\n",
        "# Install memory-profiler first: pip install memory-profiler\n",
        "\n",
        "from memory_profiler import profile\n",
        "\n",
        "@profile\n",
        "def my_function():\n",
        "    data = [x for x in range(100000)]\n",
        "    return sum(data)\n",
        "\n",
        "my_function()\n"
      ],
      "metadata": {
        "colab": {
          "base_uri": "https://localhost:8080/"
        },
        "id": "vj_IRlFEuqRW",
        "outputId": "cf71992d-d487-4fe2-b6ee-96d4b640775e"
      },
      "execution_count": 29,
      "outputs": [
        {
          "output_type": "stream",
          "name": "stdout",
          "text": [
            "ERROR: Could not find file /tmp/ipython-input-2866830742.py\n"
          ]
        },
        {
          "output_type": "execute_result",
          "data": {
            "text/plain": [
              "4999950000"
            ]
          },
          "metadata": {},
          "execution_count": 29
        }
      ]
    },
    {
      "cell_type": "code",
      "source": [
        "#17. Write a Python program to create and write a list of numbers to a file, one number per line.\n",
        "\n",
        "numbers = [1, 2, 3, 4, 5]\n",
        "\n",
        "with open(\"numbers.txt\", \"w\") as file:\n",
        "    for number in numbers:\n",
        "        file.write(f\"{number}\\n\")\n"
      ],
      "metadata": {
        "id": "UwC7sPN6wPX1"
      },
      "execution_count": 30,
      "outputs": []
    },
    {
      "cell_type": "code",
      "source": [
        "#18. How would you implement a basic logging setup that logs to a file with rotation after 1MB.\n",
        "\n",
        "import logging\n",
        "from logging.handlers import RotatingFileHandler\n",
        "\n",
        "handler = RotatingFileHandler(\"app.log\", maxBytes=1_000_000, backupCount=3)\n",
        "logging.basicConfig(handlers=[handler], level=logging.INFO)\n",
        "\n",
        "logging.info(\"This is a log message.\")\n"
      ],
      "metadata": {
        "id": "0Z24qZN5wl8U"
      },
      "execution_count": 31,
      "outputs": []
    },
    {
      "cell_type": "code",
      "source": [
        "#19. Write a program that handles both IndexError and KeyError using a try-except block.\n",
        "\n",
        "data = {\"name\": \"Sumit\"}\n",
        "list_data = [1, 2, 3]\n",
        "\n",
        "try:\n",
        "    print(data[\"age\"])\n",
        "    print(list_data[10])\n",
        "except KeyError:\n",
        "    print(\"Key error.\")\n",
        "except IndexError:\n",
        "    print(\"Index error.\")\n"
      ],
      "metadata": {
        "colab": {
          "base_uri": "https://localhost:8080/"
        },
        "id": "Xr9yhtQ-w74J",
        "outputId": "2048a75f-02cd-47da-d4e4-53f95ba8835d"
      },
      "execution_count": 34,
      "outputs": [
        {
          "output_type": "stream",
          "name": "stdout",
          "text": [
            "Key error.\n"
          ]
        }
      ]
    },
    {
      "cell_type": "code",
      "source": [
        "#20. How would you open a file and read its contents using a context manager in Python?\n",
        "\n",
        "with open(\"file.txt\", \"r\") as file:\n",
        "    content = file.read()\n",
        "    print(content)\n"
      ],
      "metadata": {
        "colab": {
          "base_uri": "https://localhost:8080/"
        },
        "id": "0hGJq3oyxeHd",
        "outputId": "5e5d0a16-d5f8-4ff9-dba5-871017cd1237"
      },
      "execution_count": 35,
      "outputs": [
        {
          "output_type": "stream",
          "name": "stdout",
          "text": [
            "This is my first line \n",
            "This is my second line \n",
            "Appended line\n",
            "\n"
          ]
        }
      ]
    },
    {
      "cell_type": "code",
      "source": [
        "#21. Write a Python program that reads a file and prints the number of occurrences of a specific word.\n",
        "\n",
        "word1 = \"second\"\n",
        "word2 = \"Python\"\n",
        "count1 = 0\n",
        "count2 = 0\n",
        "\n",
        "with open(\"file.txt\", \"r\") as file:\n",
        "    for line in file:\n",
        "        count1 += line.lower().count(word1.lower())\n",
        "        count2 += line.lower().count(word2.lower())\n",
        "\n",
        "print(f\"The word '{word1}' occurred {count1} times.\")\n",
        "print(f\"The word '{word2}' occurred {count2} times.\")\n",
        "\n"
      ],
      "metadata": {
        "colab": {
          "base_uri": "https://localhost:8080/"
        },
        "id": "jvccitFdxqsr",
        "outputId": "7c4c9299-0354-47df-d99f-7dd2cbf8fd4b"
      },
      "execution_count": 42,
      "outputs": [
        {
          "output_type": "stream",
          "name": "stdout",
          "text": [
            "The word 'second' occurred 1 times.\n",
            "The word 'Python' occurred 0 times.\n"
          ]
        }
      ]
    },
    {
      "cell_type": "code",
      "source": [
        "#22. How can you check if a file is empty before attempting to read its contents\n",
        "\n",
        "import os\n",
        "\n",
        "if os.path.getsize(\"file.txt\") == 0:\n",
        "    print(\"File is empty.\")\n",
        "else:\n",
        "    with open(\"file.txt\", \"r\") as file:\n",
        "        print(file.read())\n"
      ],
      "metadata": {
        "colab": {
          "base_uri": "https://localhost:8080/"
        },
        "id": "E-yOKJou1y5b",
        "outputId": "72f56914-9969-4008-de06-4a7d65d5c703"
      },
      "execution_count": 43,
      "outputs": [
        {
          "output_type": "stream",
          "name": "stdout",
          "text": [
            "This is my first line \n",
            "This is my second line \n",
            "Appended line\n",
            "\n"
          ]
        }
      ]
    },
    {
      "cell_type": "code",
      "source": [
        "#23.Write a Python program that writes to a log file when an error occurs during file handling.\n",
        "\n",
        "import logging\n",
        "\n",
        "logging.basicConfig(filename=\"file_errors.log\", level=logging.ERROR, force=True)\n",
        "\n",
        "try:\n",
        "    with open(\"nonexistent.txt\", \"r\") as file:\n",
        "        content = file.read()\n",
        "except FileNotFoundError as e:\n",
        "    logging.error(\"File error occurred: %s\", e)\n"
      ],
      "metadata": {
        "id": "ixVmFgBy2GKT"
      },
      "execution_count": 45,
      "outputs": []
    }
  ]
}
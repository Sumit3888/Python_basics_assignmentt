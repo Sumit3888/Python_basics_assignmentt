{
  "nbformat": 4,
  "nbformat_minor": 0,
  "metadata": {
    "colab": {
      "provenance": []
    },
    "kernelspec": {
      "name": "python3",
      "display_name": "Python 3"
    },
    "language_info": {
      "name": "python"
    }
  },
  "cells": [
    {
      "cell_type": "markdown",
      "source": [
        "**1. What is Object-Oriented Programming (OOP)?**\n",
        "  - In Python is a programming paradigm that structures code around objects, which are instances of classes is called as Object-Oriented Programming."
      ],
      "metadata": {
        "id": "RvDhIxZ1ReXm"
      }
    },
    {
      "cell_type": "markdown",
      "source": [
        "**2. What is a class in OOP?**\n",
        "  - A class is a blueprint for creating objects. It defines the attributes and methods that the objects will have.\n",
        "  - Example:\n",
        "\n",
        "  class Car:\n",
        "\n",
        "    def __init__(self, brand):\n",
        "    \n",
        "        self.brand = brand\n"
      ],
      "metadata": {
        "id": "gIQUzJI2SMsm"
      }
    },
    {
      "cell_type": "markdown",
      "source": [
        "**3. What is an object in OOP?**\n",
        "  - An object is an instance of a class. It represents a specific entity with data and behavior.\n",
        "  - Example:\n",
        "  \n",
        "    my_car = Car(\"Toyota\")\n",
        "\n",
        "\n",
        "\n"
      ],
      "metadata": {
        "id": "fkJM7IasTRVA"
      }
    },
    {
      "cell_type": "markdown",
      "source": [
        "**4. What is the difference between abstraction and encapsulation?**\n",
        "  - **Abstraction:** Hides complexity and shows only relevant details. (e.g., print() hides the internal mechanism)\n",
        "\n",
        "  - **Encapsulation:** Bundles data and methods into a single unit and restricts access (e.g., private variables).\n"
      ],
      "metadata": {
        "id": "1OheqfQJSu7M"
      }
    },
    {
      "cell_type": "markdown",
      "source": [
        "**5. What are dunder methods in Python?**\n",
        "  - **Dunder methods** (Double UNDERscore) are special methods with names like __ init__, __ str__, etc. Used to define custom behavior for objects.\n",
        "  "
      ],
      "metadata": {
        "id": "uccx7cB5Tzfu"
      }
    },
    {
      "cell_type": "markdown",
      "source": [
        "**6. Explain the concept of inheritance in OOP?**\n",
        "  - Inheritance allows a class (child) to inherit attributes and methods from another class (parent).\n",
        "  - Example:\n",
        "\n",
        "  class Animal:\n",
        "\n",
        "    def speak(self):\n",
        "\n",
        "       print(\"makes sound\")\n",
        "\n",
        "  class Dog(Animal):\n",
        "\n",
        "    def speak(self):\n",
        "\n",
        "       print(\"Makes bark\")\n",
        "\n",
        "\n",
        "\n"
      ],
      "metadata": {
        "id": "SlWRP6U_VbFO"
      }
    },
    {
      "cell_type": "markdown",
      "source": [
        "**7. What is polymorphism in OOP?**\n",
        "  - Polymorphism allows the same interface (method name) to behave differently depending on the object.\n",
        "\n",
        "\n"
      ],
      "metadata": {
        "id": "xtKnPPlVWPIz"
      }
    },
    {
      "cell_type": "markdown",
      "source": [
        "**8. How is encapsulation achieved in Python?**\n",
        "  - Refers to the bundling of data (attributes) and the methods (functions) that operate on that data within a single unit, which is a class.\n",
        "  - Protects data from unauthorized access and accidental modification.\n",
        "  - By using:\n",
        "  Public:\n",
        "  \n",
        "    - self.name\n",
        "\n",
        "    - Protected: _name (by convention)\n",
        "\n",
        "    - Private: __name (name mangling)\n",
        "\n"
      ],
      "metadata": {
        "id": "hmffR_D_WezE"
      }
    },
    {
      "cell_type": "markdown",
      "source": [
        "**9. What is a constructor in Python?**\n",
        "  - In Python, a constructor is a special method used to initialize a newly created object of a class. It is automatically called when an object of the class is instantiated.\n",
        "  "
      ],
      "metadata": {
        "id": "kfL9DeJ1YYP9"
      }
    },
    {
      "cell_type": "markdown",
      "source": [
        "**10. What are class and static methods in Python?**\n",
        "  - **@classmethod**: Takes cls as the first argument. Can access class-level data.\n",
        "\n",
        "  - **@staticmethod**: Doesn't take self or cls. Utility function inside class."
      ],
      "metadata": {
        "id": "7bi1xzluYtPB"
      }
    },
    {
      "cell_type": "markdown",
      "source": [
        "**11. What is method overloading in Python?**\n",
        "  - Python does not support method overloading\n",
        "  - Same method name in one class is called as method overloading.\n",
        "  - The last method overloads the previous ones in same class.\n",
        "\n",
        "Example:\n",
        "\n",
        "class Info:\n",
        "\n",
        "  def student(self):\n",
        "\n",
        "    print(\"Welcome to course\")\n",
        "\n",
        "  def student(self,name):\n",
        "\n",
        "    print(\"Welcome to course\",name)\n",
        "    \n",
        "  def student(self,name,age):\n",
        "\n",
        "    print(\"Welcome to course\",name,age)"
      ],
      "metadata": {
        "id": "2P_mBcXaY-WN"
      }
    },
    {
      "cell_type": "markdown",
      "source": [
        "**12. What is method overriding in OOP?**\n",
        "  - Same method name in different class(parent class and child class) is called as method overriding.\n",
        "  - We can acheive with inheriting parent class into child class."
      ],
      "metadata": {
        "id": "uYepNkx2Z40r"
      }
    },
    {
      "cell_type": "markdown",
      "source": [
        "**13. What is a property decorator in Python?**\n",
        " - @property allows a method to be accessed like an attribute.\n",
        "\n"
      ],
      "metadata": {
        "id": "GECW3mHWaJah"
      }
    },
    {
      "cell_type": "markdown",
      "source": [
        "**14. Why is polymorphism important in OOP?**\n",
        "  - Simplifies code\n",
        "\n",
        "  - Improves flexibility\n",
        "\n",
        "  - Promotes reusability via interfaces"
      ],
      "metadata": {
        "id": "M9RL1f9WaaNM"
      }
    },
    {
      "cell_type": "markdown",
      "source": [
        "**15. What is an abstract class in Python?**\n",
        "  - An abstract class is a base class with one or more abstract methods using abc module.\n",
        "  - Can't be instantiated directly."
      ],
      "metadata": {
        "id": "wf0Ca4HxazHK"
      }
    },
    {
      "cell_type": "markdown",
      "source": [
        "**16. What are the advantages of OOP?**\n",
        "  - Code reusability (Inheritance)\n",
        "\n",
        "  - Modularity (Objects/Classes)\n",
        "\n",
        "  - Security (Encapsulation)\n",
        "\n",
        "  - Flexibility (Polymorphism)"
      ],
      "metadata": {
        "id": "WY_axlttbDKL"
      }
    },
    {
      "cell_type": "markdown",
      "source": [
        "**17.What is the difference between a class variable and an instance variable?**\n",
        "  - Class variable: Shared across all instances\n",
        "\n",
        "  - Instance variable: Unique to each object"
      ],
      "metadata": {
        "id": "K4Sh5ZHibYkE"
      }
    },
    {
      "cell_type": "markdown",
      "source": [
        "**18. What is multiple inheritance in Python?**\n",
        "  - One child class can inherit from multiple parent classes."
      ],
      "metadata": {
        "id": "Kj3dRcgtbjSu"
      }
    },
    {
      "cell_type": "markdown",
      "source": [
        "**19. Explain the purpose of ‘’__str__’ and ‘__repr__’ ‘ methods in Python?**\n",
        "  -"
      ],
      "metadata": {
        "id": "hO9uGHCXb1ku"
      }
    },
    {
      "cell_type": "markdown",
      "source": [
        "**20. What is the significance of the ‘super()’ function in Python?**\n",
        "  - super() gives access to methods in the parent class.\n",
        "\n",
        "\n"
      ],
      "metadata": {
        "id": "9ijwFfyWceCr"
      }
    },
    {
      "cell_type": "markdown",
      "source": [
        "**21. What is the significance of the __ del___ method in Python?**\n",
        "  - Destructor method called when object is about to be destroyed (used rarely).\n"
      ],
      "metadata": {
        "id": "qpIVaUy6c6rh"
      }
    },
    {
      "cell_type": "markdown",
      "source": [
        "**22. What is the difference between @staticmethod and @classmethod in Python?**\n",
        "  - **@staticmethod**: No access to class or instance\n",
        "\n",
        "  - **@classmethod**: Accesses class via cls"
      ],
      "metadata": {
        "id": "8zftfj04dZib"
      }
    },
    {
      "cell_type": "markdown",
      "source": [
        "**23. How does polymorphism work in Python with inheritance?**\n",
        "  - Child classes override methods; Python uses dynamic dispatch to choose the right method at runtime.\n",
        "\n"
      ],
      "metadata": {
        "id": "3V8gihvXdo7u"
      }
    },
    {
      "cell_type": "markdown",
      "source": [
        "**24. What is method chaining in Python OOP?**\n",
        "  - Calling multiple methods on the same object in one line by returning self.\n"
      ],
      "metadata": {
        "id": "Wx-L7axtd_NC"
      }
    },
    {
      "cell_type": "markdown",
      "source": [
        "**25. What is the purpose of the __ call__ method in Python?**\n",
        "  - Allows an object to be called like a function.\n",
        "  - Example:\n",
        "\n",
        "  def __call__(self, x):\n",
        "\n",
        "    print(\"Called with\", x)\n",
        "\n",
        "obj = MyClass()\n",
        "\n",
        "obj(5)  # Calls __call__()\n"
      ],
      "metadata": {
        "id": "v6UI3hh8eMiC"
      }
    },
    {
      "cell_type": "markdown",
      "source": [
        "# **Practical Questions**"
      ],
      "metadata": {
        "id": "T2VSrKvjev9f"
      }
    },
    {
      "cell_type": "code",
      "source": [
        "#Create a parent class Animal with a method speak() that prints a generic message. Create a child class Dog\n",
        "#that overrides the speak() method to print \"Bark!\".\n",
        "\n",
        "class Animal:\n",
        "    def speak(self):\n",
        "        print(\"This is a generic animal sound.\")\n",
        "\n",
        "class Dog(Animal):\n",
        "    def speak(self):\n",
        "        print(\"Bark!\")\n",
        "\n",
        "dog = Dog()\n",
        "dog.speak()\n"
      ],
      "metadata": {
        "colab": {
          "base_uri": "https://localhost:8080/"
        },
        "id": "L8wZfDsnfupA",
        "outputId": "e2546d8e-4971-4d64-acd7-8a35b39e0656"
      },
      "execution_count": 1,
      "outputs": [
        {
          "output_type": "stream",
          "name": "stdout",
          "text": [
            "Bark!\n"
          ]
        }
      ]
    },
    {
      "cell_type": "code",
      "source": [
        "# 2. Write a program to create an abstract class Shape with a method area(). Derive classes Circle and Rectangle\n",
        "# from it and implement the area() method in both.\n",
        "\n",
        "from abc import ABC, abstractmethod\n",
        "import math\n",
        "\n",
        "class Shape(ABC):\n",
        "    @abstractmethod\n",
        "    def area(self):\n",
        "        pass\n",
        "\n",
        "class Circle(Shape):\n",
        "    def __init__(self, radius):\n",
        "        self.radius = radius\n",
        "\n",
        "    def area(self):\n",
        "        return math.pi * self.radius ** 2\n",
        "\n",
        "class Rectangle(Shape):\n",
        "    def __init__(self, width, height):\n",
        "        self.width = width\n",
        "        self.height = height\n",
        "\n",
        "    def area(self):\n",
        "        return self.width * self.height\n",
        "\n",
        "c = Circle(5)\n",
        "r = Rectangle(4, 6)\n",
        "print(\"Circle area:\", c.area())\n",
        "print(\"Rectangle area:\", r.area())\n"
      ],
      "metadata": {
        "colab": {
          "base_uri": "https://localhost:8080/"
        },
        "id": "RElzSk01geCv",
        "outputId": "8c941f70-f154-4345-e9a5-69e9f90f1db8"
      },
      "execution_count": 2,
      "outputs": [
        {
          "output_type": "stream",
          "name": "stdout",
          "text": [
            "Circle area: 78.53981633974483\n",
            "Rectangle area: 24\n"
          ]
        }
      ]
    },
    {
      "cell_type": "code",
      "source": [
        "# 3. Implement a multi-level inheritance scenario where a class Vehicle has an attribute type. Derive a class Car\n",
        "# and further derive a class ElectricCar that adds a battery attribute.\n",
        "\n",
        "class Vehicle:\n",
        "    def __init__(self, vehicle_type):\n",
        "        self.type = vehicle_type\n",
        "\n",
        "class Car(Vehicle):\n",
        "    def __init__(self, vehicle_type, brand):\n",
        "        super().__init__(vehicle_type)\n",
        "        self.brand = brand\n",
        "\n",
        "class ElectricCar(Car):\n",
        "    def __init__(self, vehicle_type, brand, battery):\n",
        "        super().__init__(vehicle_type, brand)\n",
        "        self.battery = battery\n",
        "\n",
        "e_car = ElectricCar(\"4-wheeler\", \"Tesla\", \"100 kWh\")\n",
        "print(e_car.type, e_car.brand, e_car.battery)\n"
      ],
      "metadata": {
        "colab": {
          "base_uri": "https://localhost:8080/"
        },
        "id": "KQJ-lNJVhRnH",
        "outputId": "3d8a0a5a-1ab1-42bc-8065-be43b7c6fd0b"
      },
      "execution_count": 3,
      "outputs": [
        {
          "output_type": "stream",
          "name": "stdout",
          "text": [
            "4-wheeler Tesla 100 kWh\n"
          ]
        }
      ]
    },
    {
      "cell_type": "code",
      "source": [
        "# 4. Demonstrate polymorphism by creating a base class Bird with a method fly(). Create two derived classes\n",
        "# Sparrow and Penguin that override the fly() method.\n",
        "\n",
        "\n",
        "class Bird:\n",
        "    def fly(self):\n",
        "        print(\"Some birds can fly.\")\n",
        "\n",
        "class Sparrow(Bird):\n",
        "    def fly(self):\n",
        "        print(\"Sparrow can fly high.\")\n",
        "\n",
        "class Penguin(Bird):\n",
        "    def fly(self):\n",
        "        print(\"Penguins cannot fly.\")\n",
        "\n",
        "for bird in (Sparrow(), Penguin()):\n",
        "    bird.fly()\n",
        "\n"
      ],
      "metadata": {
        "colab": {
          "base_uri": "https://localhost:8080/"
        },
        "id": "Segx_G5Ei13G",
        "outputId": "0c1d9f12-c068-4221-a9ce-78a66c6090b2"
      },
      "execution_count": 4,
      "outputs": [
        {
          "output_type": "stream",
          "name": "stdout",
          "text": [
            "Sparrow can fly high.\n",
            "Penguins cannot fly.\n"
          ]
        }
      ]
    },
    {
      "cell_type": "code",
      "source": [
        "# 5. Write a program to demonstrate encapsulation by creating a class BankAccount with private attributes\n",
        "# balance and methods to deposit, withdraw, and check balance.\n",
        "\n",
        "class BankAccount:\n",
        "    def __init__(self):\n",
        "        self.__balance = 0\n",
        "\n",
        "    def deposit(self, amount):\n",
        "        if amount > 0:\n",
        "            self.__balance += amount\n",
        "\n",
        "    def withdraw(self, amount):\n",
        "        if 0 < amount <= self.__balance:\n",
        "            self.__balance -= amount\n",
        "\n",
        "    def get_balance(self):\n",
        "        return self.__balance\n",
        "\n",
        "account = BankAccount()\n",
        "account.deposit(1000)\n",
        "account.withdraw(300)\n",
        "print(\"Balance:\", account.get_balance())\n"
      ],
      "metadata": {
        "colab": {
          "base_uri": "https://localhost:8080/"
        },
        "id": "ECriltSujOwM",
        "outputId": "795c6610-8e04-4093-c15e-d921a987617e"
      },
      "execution_count": 6,
      "outputs": [
        {
          "output_type": "stream",
          "name": "stdout",
          "text": [
            "Balance: 700\n"
          ]
        }
      ]
    },
    {
      "cell_type": "code",
      "source": [
        "# 6. Demonstrate runtime polymorphism using a method play() in a base class Instrument. Derive classes Guitar\n",
        "# and Piano that implement their own version of play().\n",
        "\n",
        "class Instrument:\n",
        "    def play(self):\n",
        "        print(\"Instrument is playing.\")\n",
        "\n",
        "class Guitar(Instrument):\n",
        "    def play(self):\n",
        "        print(\"Strumming the guitar.\")\n",
        "\n",
        "class Piano(Instrument):\n",
        "    def play(self):\n",
        "        print(\"Playing the piano.\")\n",
        "\n",
        "for inst in (Guitar(), Piano()):\n",
        "    inst.play()\n"
      ],
      "metadata": {
        "colab": {
          "base_uri": "https://localhost:8080/"
        },
        "id": "7dNEYXEJjyVT",
        "outputId": "291639c2-c1fa-4a99-8430-5f403eaf04e4"
      },
      "execution_count": 7,
      "outputs": [
        {
          "output_type": "stream",
          "name": "stdout",
          "text": [
            "Strumming the guitar.\n",
            "Playing the piano.\n"
          ]
        }
      ]
    },
    {
      "cell_type": "code",
      "source": [
        "# 7. Create a class MathOperations with a class method add_numbers() to add two numbers and a static\n",
        "# method subtract_numbers() to subtract two numbers.\n",
        "\n",
        "class MathOperations:\n",
        "    @classmethod\n",
        "    def add_numbers(cls, a, b):\n",
        "        return a + b\n",
        "\n",
        "    @staticmethod\n",
        "    def subtract_numbers(a, b):\n",
        "        return a - b\n",
        "\n",
        "print(\"Addition:\", MathOperations.add_numbers(5, 3))\n",
        "print(\"Subtraction:\", MathOperations.subtract_numbers(5, 3))\n"
      ],
      "metadata": {
        "colab": {
          "base_uri": "https://localhost:8080/"
        },
        "id": "9fCfL-kLkP6M",
        "outputId": "890d09a4-7901-4508-95ca-55c914d41789"
      },
      "execution_count": 8,
      "outputs": [
        {
          "output_type": "stream",
          "name": "stdout",
          "text": [
            "Addition: 8\n",
            "Subtraction: 2\n"
          ]
        }
      ]
    },
    {
      "cell_type": "code",
      "source": [
        "# 8. Implement a class Person with a class method to count the total number of persons created.\n",
        "\n",
        "class Person:\n",
        "    count = 0\n",
        "\n",
        "    def __init__(self, name):\n",
        "        self.name = name\n",
        "        Person.count += 1\n",
        "\n",
        "    @classmethod\n",
        "    def total_persons(cls):\n",
        "        return cls.count\n",
        "\n",
        "p1 = Person(\"Alice\")\n",
        "p2 = Person(\"Bob\")\n",
        "print(\"Total persons:\", Person.total_persons())\n"
      ],
      "metadata": {
        "colab": {
          "base_uri": "https://localhost:8080/"
        },
        "id": "0roHcNYnkfEW",
        "outputId": "c1f29ca6-d95c-42e8-902f-f5c9161c8560"
      },
      "execution_count": 9,
      "outputs": [
        {
          "output_type": "stream",
          "name": "stdout",
          "text": [
            "Total persons: 2\n"
          ]
        }
      ]
    },
    {
      "cell_type": "code",
      "source": [
        "# 9. Write a class Fraction with attributes numerator and denominator. Override the str method to display the\n",
        "# fraction as \"numerator/denominator\".\n",
        "\n",
        "class Fraction:\n",
        "    def __init__(self, numerator, denominator):\n",
        "        self.numerator = numerator\n",
        "        self.denominator = denominator\n",
        "\n",
        "    def __str__(self):\n",
        "        return f\"{self.numerator}/{self.denominator}\"\n",
        "\n",
        "f = Fraction(3, 4)\n",
        "print(f)\n"
      ],
      "metadata": {
        "colab": {
          "base_uri": "https://localhost:8080/"
        },
        "id": "MAv-Tsnjkx-d",
        "outputId": "706b9d0a-14f9-4514-eb5c-2b50414ed3ed"
      },
      "execution_count": 10,
      "outputs": [
        {
          "output_type": "stream",
          "name": "stdout",
          "text": [
            "3/4\n"
          ]
        }
      ]
    },
    {
      "cell_type": "code",
      "source": [
        "# 10. Demonstrate operator overloading by creating a class Vector and overriding the add method to add two\n",
        "# vectors.\n",
        "\n",
        "class Vector:\n",
        "    def __init__(self, x, y):\n",
        "        self.x = x\n",
        "        self.y = y\n",
        "\n",
        "    def __add__(self, other):\n",
        "        return Vector(self.x + other.x, self.y + other.y)\n",
        "\n",
        "    def __str__(self):\n",
        "        return f\"({self.x}, {self.y})\"\n",
        "\n",
        "v1 = Vector(1, 2)\n",
        "v2 = Vector(3, 4)\n",
        "print(\"Sum:\", v1 + v2)\n"
      ],
      "metadata": {
        "id": "KGNDY3mClErC"
      },
      "execution_count": null,
      "outputs": []
    },
    {
      "cell_type": "code",
      "source": [
        "# 11. Create a class Person with attributes name and age. Add a method greet() that prints \"Hello, my name is\n",
        "# {name} and I am {age} years old.\"\n",
        "\n",
        "class Person:\n",
        "    def __init__(self, name, age):\n",
        "        self.name = name\n",
        "        self.age = age\n",
        "\n",
        "    def greet(self):\n",
        "        print(f\"Hello, my name is {self.name} and I am {self.age} years old.\")\n",
        "\n",
        "p = Person(\"Sumit\", 30)\n",
        "p.greet()\n"
      ],
      "metadata": {
        "colab": {
          "base_uri": "https://localhost:8080/"
        },
        "id": "lFw6VhdPlUqK",
        "outputId": "9a50f01a-469c-4bc9-8b77-49be2a7e35a7"
      },
      "execution_count": 12,
      "outputs": [
        {
          "output_type": "stream",
          "name": "stdout",
          "text": [
            "Hello, my name is Sumit and I am 30 years old.\n"
          ]
        }
      ]
    },
    {
      "cell_type": "code",
      "source": [
        "# 12. Implement a class Student with attributes name and grades. Create a method average_grade() to compute\n",
        "# the average of the grades.\n",
        "\n",
        "class Student:\n",
        "    def __init__(self, name, grades):\n",
        "        self.name = name\n",
        "        self.grades = grades\n",
        "\n",
        "    def average_grade(self):\n",
        "        return sum(self.grades) / len(self.grades)\n",
        "\n",
        "s = Student(\"Sumit\", [80, 90, 70])\n",
        "print(\"Average Grade:\", s.average_grade())\n"
      ],
      "metadata": {
        "colab": {
          "base_uri": "https://localhost:8080/"
        },
        "id": "48AuABsXlsWo",
        "outputId": "13ba55de-19ec-432e-a092-c5eb8772f8cd"
      },
      "execution_count": 14,
      "outputs": [
        {
          "output_type": "stream",
          "name": "stdout",
          "text": [
            "Average Grade: 80.0\n"
          ]
        }
      ]
    },
    {
      "cell_type": "code",
      "source": [
        "# 13. Create a class Rectangle with methods set_dimensions() to set the dimensions and area() to calculate the\n",
        "# area.\n",
        "\n",
        "class Rectangle:\n",
        "    def set_dimensions(self, width, height):\n",
        "        self.width = width\n",
        "        self.height = height\n",
        "\n",
        "    def area(self):\n",
        "        return self.width * self.height\n",
        "\n",
        "r = Rectangle()\n",
        "r.set_dimensions(4, 5)\n",
        "print(\"Area:\", r.area())\n",
        "\n"
      ],
      "metadata": {
        "colab": {
          "base_uri": "https://localhost:8080/"
        },
        "id": "PITHE9cSl_ZQ",
        "outputId": "744d5200-650a-46b1-a308-649dd86f0821"
      },
      "execution_count": 15,
      "outputs": [
        {
          "output_type": "stream",
          "name": "stdout",
          "text": [
            "Area: 20\n"
          ]
        }
      ]
    },
    {
      "cell_type": "code",
      "source": [
        "# 14. Create a class Employee with a method calculate_salary() that computes the salary based on hours worked\n",
        "# and hourly rate. Create a derived class Manager that adds a bonus to the salary.\n",
        "\n",
        "class Employee:\n",
        "    def __init__(self, hours_worked, hourly_rate):\n",
        "        self.hours_worked = hours_worked\n",
        "        self.hourly_rate = hourly_rate\n",
        "\n",
        "    def calculate_salary(self):\n",
        "        return self.hours_worked * self.hourly_rate\n",
        "\n",
        "class Manager(Employee):\n",
        "    def __init__(self, hours_worked, hourly_rate, bonus):\n",
        "        super().__init__(hours_worked, hourly_rate)\n",
        "        self.bonus = bonus\n",
        "\n",
        "    def calculate_salary(self):\n",
        "        return super().calculate_salary() + self.bonus\n",
        "\n",
        "m = Manager(40, 50, 1000)\n",
        "print(\"Manager Salary:\", m.calculate_salary())\n"
      ],
      "metadata": {
        "colab": {
          "base_uri": "https://localhost:8080/"
        },
        "id": "E47Fa9efrA6x",
        "outputId": "75fb58a3-dd75-4612-f1f2-f5b7a19b5d54"
      },
      "execution_count": 16,
      "outputs": [
        {
          "output_type": "stream",
          "name": "stdout",
          "text": [
            "Manager Salary: 3000\n"
          ]
        }
      ]
    },
    {
      "cell_type": "code",
      "source": [
        "# 15. Create a class Product with attributes name, price, and quantity. Implement a method total_price() that\n",
        "# calculates the total price of the product.\n",
        "\n",
        "class Product:\n",
        "    def __init__(self, name, price, quantity):\n",
        "        self.name = name\n",
        "        self.price = price\n",
        "        self.quantity = quantity\n",
        "\n",
        "    def total_price(self):\n",
        "        return self.price * self.quantity\n",
        "\n",
        "p = Product(\"Laptop\", 50000, 2)\n",
        "print(\"Total Price:\", p.total_price())\n"
      ],
      "metadata": {
        "colab": {
          "base_uri": "https://localhost:8080/"
        },
        "id": "JTy_O22IsWBs",
        "outputId": "8f563031-cec8-4ac2-eb04-4ce4be1a8bb1"
      },
      "execution_count": 17,
      "outputs": [
        {
          "output_type": "stream",
          "name": "stdout",
          "text": [
            "Total Price: 100000\n"
          ]
        }
      ]
    },
    {
      "cell_type": "code",
      "source": [
        "# 16. Create a class Animal with an abstract method sound(). Create two derived classes Cow and Sheep that\n",
        "# implement the sound() method\n",
        "\n",
        "from abc import ABC, abstractmethod\n",
        "\n",
        "class Animal(ABC):\n",
        "    @abstractmethod\n",
        "    def sound(self):\n",
        "        pass\n",
        "\n",
        "class Cow(Animal):\n",
        "    def sound(self):\n",
        "        return \"Moo\"\n",
        "\n",
        "class Sheep(Animal):\n",
        "    def sound(self):\n",
        "        return \"Baa\"\n",
        "\n",
        "cow = Cow()\n",
        "sheep = Sheep()\n",
        "print(\"Cow:\", cow.sound())\n",
        "print(\"Sheep:\", sheep.sound())\n"
      ],
      "metadata": {
        "colab": {
          "base_uri": "https://localhost:8080/"
        },
        "id": "yJnM0OvksV-O",
        "outputId": "148a5d08-2192-46ab-a87e-445510e51cb0"
      },
      "execution_count": 18,
      "outputs": [
        {
          "output_type": "stream",
          "name": "stdout",
          "text": [
            "Cow: Moo\n",
            "Sheep: Baa\n"
          ]
        }
      ]
    },
    {
      "cell_type": "code",
      "source": [
        "# 17. Create a class Book with attributes title, author, and year_published. Add a method get_book_info() that\n",
        "# returns a formatted string with the book's details.\n",
        "\n",
        "class Book:\n",
        "    def __init__(self, title, author, year_published):\n",
        "        self.title = title\n",
        "        self.author = author\n",
        "        self.year_published = year_published\n",
        "\n",
        "    def get_book_info(self):\n",
        "        return f\"'{self.title}' by {self.author}, published in {self.year_published}\"\n",
        "\n",
        "book = Book(\"Three Idiots\", \"Chetan Bhagat\", 1990)\n",
        "print(book.get_book_info())\n"
      ],
      "metadata": {
        "colab": {
          "base_uri": "https://localhost:8080/"
        },
        "id": "Jz2tR5l6sVt-",
        "outputId": "537449cc-f562-452e-eea0-d5b262c8eb2a"
      },
      "execution_count": 19,
      "outputs": [
        {
          "output_type": "stream",
          "name": "stdout",
          "text": [
            "'Three Idiots' by Chetan Bhagat, published in 1990\n"
          ]
        }
      ]
    },
    {
      "cell_type": "code",
      "source": [
        "# 18. Create a class House with attributes address and price. Create a derived class Mansion that adds an\n",
        "# attribute number_of_rooms.\n",
        "\n",
        "class House:\n",
        "    def __init__(self, address, price):\n",
        "        self.address = address\n",
        "        self.price = price\n",
        "\n",
        "class Mansion(House):\n",
        "    def __init__(self, address, price, number_of_rooms):\n",
        "        super().__init__(address, price)\n",
        "        self.number_of_rooms = number_of_rooms\n",
        "\n",
        "m = Mansion(\"Thorat Mansion\", 50000000, 10)\n",
        "print(\"Mansion Address:\", m.address)\n",
        "print(\"Price:\", m.price)\n",
        "print(\"Rooms:\", m.number_of_rooms)\n"
      ],
      "metadata": {
        "colab": {
          "base_uri": "https://localhost:8080/"
        },
        "id": "U6K_I92OuhFo",
        "outputId": "bf9ab358-dc56-41d0-d6c1-303b444b1c6d"
      },
      "execution_count": 21,
      "outputs": [
        {
          "output_type": "stream",
          "name": "stdout",
          "text": [
            "Mansion Address: Thorat Mansion\n",
            "Price: 50000000\n",
            "Rooms: 10\n"
          ]
        }
      ]
    }
  ]
}
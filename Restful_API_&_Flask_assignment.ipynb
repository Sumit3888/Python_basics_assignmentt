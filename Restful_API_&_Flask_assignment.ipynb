{
  "nbformat": 4,
  "nbformat_minor": 0,
  "metadata": {
    "colab": {
      "provenance": []
    },
    "kernelspec": {
      "name": "python3",
      "display_name": "Python 3"
    },
    "language_info": {
      "name": "python"
    }
  },
  "cells": [
    {
      "cell_type": "markdown",
      "source": [
        "**1. What is a RESTful API?**\n",
        "  - A RESTful API is an interface that follows the REST (Representational State Transfer) architecture, using HTTP methods (GET, POST, PUT, DELETE) to interact with resources (data)."
      ],
      "metadata": {
        "id": "22UqZWfuhvil"
      }
    },
    {
      "cell_type": "markdown",
      "source": [
        "**2.Explain the concept of API specification.**\n",
        "  - **Endpoints and Paths:** The specific URLs and resources that can be accessed.\n",
        "  - **Operations (HTTP Methods):** The actions that can be performed on those resources (e.g., GET, POST, PUT, DELETE).\n",
        "  - **Parameters:** The inputs required for each operation, including their data types, formats, and whether they are optional or required.\n",
        "  - **Request and Response Structures (Schemas):** The format of data sent to and received from the API, often defined using JSON Schema.\n",
        "  - **Security Schemes:** How the API is authenticated and authorized (e.g., API keys, OAuth2).\n",
        "  - **Error Handling:** Definitions of possible error responses and their corresponding HTTP status codes."
      ],
      "metadata": {
        "id": "Syc8JlhPhvsi"
      }
    },
    {
      "cell_type": "markdown",
      "source": [
        "**3. What is Flask, and why is it popular for building APIs?**\n",
        "  - Flask is a lightweight Python web framework.\n",
        "  - Popular because it is:\n",
        "    - Simple and minimal\n",
        "    - Flexible (plug-ins available)\n",
        "    - Great for rapid API development"
      ],
      "metadata": {
        "id": "cfJL13r1hv09"
      }
    },
    {
      "cell_type": "markdown",
      "source": [
        "**4. What is routing in Flask?**\n",
        "  - Routing maps a URL path (like /users) to a function (view) in Flask."
      ],
      "metadata": {
        "id": "duqNhRwOhv7B"
      }
    },
    {
      "cell_type": "markdown",
      "source": [
        "**5. How do you create a simple Flask application?**\n",
        "  - Example:\n",
        "\n",
        "from flask import Flask\n",
        "\n",
        "app = Flask(__name__)\n",
        "\n",
        "@app.route('/')\n",
        "\n",
        "def home():\n",
        "\n",
        "    return \"Hello, Flask!\"\n",
        "\n",
        "if __name__ == '__main__':\n",
        "\n",
        "    app.run(debug=True)\n"
      ],
      "metadata": {
        "id": "jXZn5Jaohv_d"
      }
    },
    {
      "cell_type": "markdown",
      "source": [
        "**6. What are HTTP methods used in RESTful APIs?**\n",
        "  - GET – retrieve data\n",
        "\n",
        "  - POST – create new data\n",
        "\n",
        "  - PUT – update existing data\n",
        "\n",
        "  - DELETE – remove data"
      ],
      "metadata": {
        "id": "AqzL1YgGhwC2"
      }
    },
    {
      "cell_type": "markdown",
      "source": [
        "**7. What is the purpose of the @app.route() decorator in Flask?**\n",
        "  - It binds a URL to a Python function so Flask knows what code to run when that URL is requested."
      ],
      "metadata": {
        "id": "k6v5Ih0ihwGc"
      }
    },
    {
      "cell_type": "markdown",
      "source": [
        "**8. What is the difference between GET and POST HTTP methods?**\n",
        "  - GET – retrieves data, parameters in URL, idempotent (safe).\n",
        "\n",
        "  - POST – submits data, sent in body, used to create new resources."
      ],
      "metadata": {
        "id": "1JCzO4LIhwKJ"
      }
    },
    {
      "cell_type": "markdown",
      "source": [
        "**9. How do you handle errors in Flask APIs?**\n",
        "  - Using @app.errorhandler()\n",
        "\n",
        "  - Returning proper HTTP status codes and JSON error messages."
      ],
      "metadata": {
        "id": "_dlV7HeghwOF"
      }
    },
    {
      "cell_type": "markdown",
      "source": [
        "**10. How do you connect Flask to a SQL database.**\n",
        "  - Using Flask-SQLAlchemy or directly via a database connector (e.g., sqlite3, psycopg2, mysql-connector)."
      ],
      "metadata": {
        "id": "C7_GnOvwhwRR"
      }
    },
    {
      "cell_type": "markdown",
      "source": [
        "**11. What is the role of Flask-SQLAlchemy?**\n",
        "  - It is an ORM (Object Relational Mapper) that makes working with databases easier by mapping Python classes to database tables"
      ],
      "metadata": {
        "id": "oElUNy0hlmJT"
      }
    },
    {
      "cell_type": "markdown",
      "source": [
        "**12. What are Flask blueprints, and how are they useful?**\n",
        "  - Blueprints let you organize routes into modules. Useful for larger apps to separate APIs (e.g., auth, user, admin)."
      ],
      "metadata": {
        "id": "4hnCsA5ilyol"
      }
    },
    {
      "cell_type": "markdown",
      "source": [
        "**13. What is the purpose of Flask's request object?**\n",
        "  - It represents the HTTP request. You can access request data like form fields, JSON body, headers, and query params."
      ],
      "metadata": {
        "id": "G6Z0ZRehl-RA"
      }
    },
    {
      "cell_type": "markdown",
      "source": [
        "**14. How do you create a RESTful API endpoint using Flask?**\n",
        "  - Example:\n",
        "\n",
        "from flask import Flask, jsonify, request\n",
        "\n",
        "app = Flask(__name__)\n",
        "\n",
        "@app.route('/users', methods=['POST'])\n",
        "\n",
        "def add_user():\n",
        "\n",
        "   data = request.json\n",
        "   \n",
        "   return jsonify({\"user\":data})\n"
      ],
      "metadata": {
        "id": "NpLLPHnQmHfc"
      }
    },
    {
      "cell_type": "markdown",
      "source": [
        "**15. What is the purpose of Flask's jsonify() function?**\n",
        "  - Converts a Python dictionary/list into a JSON response with correct headers (application/json)."
      ],
      "metadata": {
        "id": "vOWXpTBYnMby"
      }
    },
    {
      "cell_type": "markdown",
      "source": [
        "**16. Explain Flask’s url_for() function.**\n",
        "  - Generates a URL for a given function name dynamically, useful for avoiding hardcoding URLs."
      ],
      "metadata": {
        "id": "II89y45JnZmm"
      }
    },
    {
      "cell_type": "markdown",
      "source": [
        "**17. How does Flask handle static files (CSS, JavaScript, etc.)?**\n",
        "  - Flask automatically serves files placed inside the static/ directory via the /static/ route."
      ],
      "metadata": {
        "id": "5hanhNEEnlpU"
      }
    },
    {
      "cell_type": "markdown",
      "source": [
        "**18. What is an API specification, and how does it help in building a Flask API.**\n",
        "  - It defines API endpoints, request/response formats, authentication, status codes. Helps developers understand and integrate with the API easily."
      ],
      "metadata": {
        "id": "drblZDENn7EE"
      }
    },
    {
      "cell_type": "markdown",
      "source": [
        "**19. What are HTTP status codes, and why are they important in a Flask API?**\n",
        "  - They indicate the result of a request.\n",
        "  - Example:\n",
        "    - 200 OK\n",
        "    - 201 Created\n",
        "    - 400 Bad Request\n",
        "    - 404 Not Found\n",
        "    - 500 Server Error\n",
        "  - They help clients understand the response correctly."
      ],
      "metadata": {
        "id": "xS_y6RgAoINj"
      }
    },
    {
      "cell_type": "markdown",
      "source": [
        "**20.How do you handle POST requests in Flask?**\n",
        "  - Example:\n",
        "  \n",
        "@app.route('/submit', methods=['POST'])\n",
        "\n",
        "def submit():\n",
        "\n",
        "  data = request.json\n",
        "  \n",
        "  return jsonify(data)\n"
      ],
      "metadata": {
        "id": "gMsTCDITooDL"
      }
    },
    {
      "cell_type": "markdown",
      "source": [
        "**21. How would you secure a Flask API.**\n",
        "  - Use authentication (JWT, OAuth, API keys)\n",
        "  - Validate inputs\n",
        "  - Use HTTPS\n"
      ],
      "metadata": {
        "id": "Jx-JFh9xplNr"
      }
    },
    {
      "cell_type": "markdown",
      "source": [
        "**22. What is the significance of the Flask-RESTful extension?**\n",
        "  - It simplifies API development by providing classes like Resource, handling routing, argument parsing, and response formatting."
      ],
      "metadata": {
        "id": "jjg9yAmcp4fT"
      }
    },
    {
      "cell_type": "markdown",
      "source": [
        "**23. What is the role of Flask’s session object?**\n",
        "  - It stores user-specific data across requests (e.g., login info) using signed cookies."
      ],
      "metadata": {
        "id": "Ee1d3sGqqBgo"
      }
    },
    {
      "cell_type": "markdown",
      "source": [
        "# **Practical Questions:**"
      ],
      "metadata": {
        "id": "5urkypmUqMaX"
      }
    },
    {
      "cell_type": "code",
      "source": [
        "#1.How do you create a basic Flask application?\n",
        "\n",
        "from flask import Flask\n",
        "app = Flask(__name__)\n",
        "\n",
        "@app.route('/')\n",
        "def home():\n",
        "    return \"Hello Flask!\"\n",
        "\n",
        "if __name__ == '__main__':\n",
        "    app.run(debug=True)\n"
      ],
      "metadata": {
        "colab": {
          "base_uri": "https://localhost:8080/"
        },
        "id": "Zve_R2B3qTyz",
        "outputId": "63839026-a193-4a97-fb20-84e94090ff03"
      },
      "execution_count": 1,
      "outputs": [
        {
          "output_type": "stream",
          "name": "stdout",
          "text": [
            " * Serving Flask app '__main__'\n",
            " * Debug mode: on\n"
          ]
        },
        {
          "output_type": "stream",
          "name": "stderr",
          "text": [
            "INFO:werkzeug:\u001b[31m\u001b[1mWARNING: This is a development server. Do not use it in a production deployment. Use a production WSGI server instead.\u001b[0m\n",
            " * Running on http://127.0.0.1:5000\n",
            "INFO:werkzeug:\u001b[33mPress CTRL+C to quit\u001b[0m\n",
            "INFO:werkzeug: * Restarting with watchdog (inotify)\n"
          ]
        }
      ]
    },
    {
      "cell_type": "code",
      "source": [
        "#2. How do you serve static files like images or CSS in Flask?\n",
        "\n",
        "from flask import Flask, send_from_directory\n",
        "\n",
        "app = Flask(__name__)\n",
        "\n",
        "@app.route('/static/<path:filename>')\n",
        "def serve_static(filename):\n",
        "    return send_from_directory('static', filename)"
      ],
      "metadata": {
        "id": "Mn64zBC1q9nR"
      },
      "execution_count": null,
      "outputs": []
    },
    {
      "cell_type": "code",
      "source": [
        "#3. How do you define different routes with different HTTP methods in Flask?\n",
        "\n",
        "from flask import Flask, request\n",
        "\n",
        "app = Flask(__name__)\n",
        "\n",
        "@app.route('/submit', methods=['GET', 'POST'])\n",
        "def submit():\n",
        "    if request.method == 'POST':\n",
        "        return \"Form submitted!\"\n",
        "    return \"Submit form\""
      ],
      "metadata": {
        "id": "6ft26KUosT7a"
      },
      "execution_count": 3,
      "outputs": []
    },
    {
      "cell_type": "code",
      "source": [
        "#4. How do you render HTML templates in Flask?\n",
        "\n",
        "\n",
        "from flask import render_template\n",
        "# fisrt place the templetes file inside templates folder\n",
        "@app.route('/profile')\n",
        "def profile():\n",
        "    return render_template('profile.html', name=\"Sumit\")\n"
      ],
      "metadata": {
        "id": "RrULKCOjsuCI"
      },
      "execution_count": null,
      "outputs": []
    },
    {
      "cell_type": "code",
      "source": [
        "#5. How can you generate URLs for routes in Flask using url_for?\n",
        "\n",
        "from flask import url_for\n",
        "\n",
        "@app.route('/home')\n",
        "def home():\n",
        "    return \"Home Page\"\n",
        "\n",
        "@app.route('/about')\n",
        "def about():\n",
        "    return \"About Page\"\n"
      ],
      "metadata": {
        "id": "UjMMRiXftVsG"
      },
      "execution_count": null,
      "outputs": []
    },
    {
      "cell_type": "code",
      "source": [
        "#6. How do you handle forms in Flask?\n",
        "\n",
        "@app.route('/form', methods=['GET', 'POST'])\n",
        "def form():\n",
        "    if request.method == 'POST':\n",
        "        name = request.form['name']\n",
        "        return f\"Hello {name}\"\n",
        "    return render_template('form.html')\n"
      ],
      "metadata": {
        "id": "HwJaiY_XtvXo"
      },
      "execution_count": null,
      "outputs": []
    },
    {
      "cell_type": "code",
      "source": [
        "#7. How can you validate form data in Flask?\n",
        "\n",
        "from flask_wtf import FlaskForm\n",
        "from wtforms import StringField, PasswordField\n",
        "from wtforms.validators import DataRequired\n",
        "\n",
        "class LoginForm(FlaskForm):\n",
        "    username = StringField('Username', validators=[DataRequired()])\n",
        "    password = PasswordField('Password', validators=[DataRequired()])"
      ],
      "metadata": {
        "id": "TBiCZeDvt6C2"
      },
      "execution_count": null,
      "outputs": []
    },
    {
      "cell_type": "code",
      "source": [
        "#8. How do you manage sessions in Flask?\n",
        "\n",
        "from flask import session\n",
        "\n",
        "app.secret_key = \"secret123\"\n",
        "\n",
        "@app.route('/login')\n",
        "def login():\n",
        "    session['user'] = 'Sumit'\n",
        "    return \"Logged in!\"\n",
        "\n",
        "@app.route('/profile')\n",
        "def profile():\n",
        "    return f\"Hello {session['user']}\"\n"
      ],
      "metadata": {
        "id": "8L7AnZa4unQE"
      },
      "execution_count": null,
      "outputs": []
    },
    {
      "cell_type": "code",
      "source": [
        "#9. How do you redirect to a different route in Flask?\n",
        "\n",
        "\n",
        "from flask import redirect, url_for\n",
        "\n",
        "@app.route('/old')\n",
        "def old():\n",
        "    return redirect(url_for('new'))\n",
        "\n",
        "@app.route('/new')\n",
        "def new():\n",
        "    return \"New Page\"\n"
      ],
      "metadata": {
        "id": "ykcxnzqyu23L"
      },
      "execution_count": null,
      "outputs": []
    },
    {
      "cell_type": "code",
      "source": [
        "#10. How do you handle errors in Flask (e.g., 404)?\n",
        "\n",
        "@app.errorhandler(404)\n",
        "def page_not_found(e):\n",
        "    return render_template('404.html'), 404\n"
      ],
      "metadata": {
        "id": "IgsfHeWivD6N"
      },
      "execution_count": null,
      "outputs": []
    },
    {
      "cell_type": "code",
      "source": [
        "#11. How do you structure a Flask app using Blueprints?\n",
        "\n",
        "from flask import Blueprint\n",
        "\n",
        "bp = Blueprint('bp_name', __name__)\n",
        "\n",
        "@bp.route('/home')\n",
        "def home():\n",
        "    return \"Home Page\"\n",
        "\n",
        "app.register_blueprint(bp)"
      ],
      "metadata": {
        "id": "2k1Sv9TQvKpg"
      },
      "execution_count": null,
      "outputs": []
    },
    {
      "cell_type": "code",
      "source": [
        "#12. How do you define a custom Jinja filter in Flask?\n",
        "\n",
        "@app.template_filter('reverse')\n",
        "def reverse_filter(s):\n",
        "    return s[::-1]\n",
        "\n",
        "# In template: {{ \"hello\"|reverse }}\n"
      ],
      "metadata": {
        "id": "_2qpjw_1vlE_"
      },
      "execution_count": null,
      "outputs": []
    },
    {
      "cell_type": "code",
      "source": [
        "#13. How can you redirect with query parameters in Flask?\n",
        "\n",
        "from flask import redirect, url_for, request\n",
        "\n",
        "@app.route('/search')\n",
        "def search():\n",
        "    query = request.args.get('q')\n",
        "    return redirect(url_for('results', query=query))"
      ],
      "metadata": {
        "id": "nIomJLqevz45"
      },
      "execution_count": null,
      "outputs": []
    },
    {
      "cell_type": "code",
      "source": [
        "#14. How do you return JSON responses in Flask?\n",
        "\n",
        "from flask import jsonify\n",
        "\n",
        "@app.route('/json')\n",
        "def json_response():\n",
        "    data = {'key': 'value'}\n",
        "    return jsonify(data)"
      ],
      "metadata": {
        "id": "M5N68wYsv-1a"
      },
      "execution_count": null,
      "outputs": []
    },
    {
      "cell_type": "code",
      "source": [
        "#15. How do you capture URL parameters in Flask?\n",
        "\n",
        "@app.route('/user/<username>')\n",
        "def user(username):\n",
        "    return f\"Hello {username}\""
      ],
      "metadata": {
        "id": "xoCOhw2VwRH0"
      },
      "execution_count": null,
      "outputs": []
    }
  ]
}